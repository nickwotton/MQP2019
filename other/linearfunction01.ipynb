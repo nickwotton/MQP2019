{
  "nbformat": 4,
  "nbformat_minor": 0,
  "metadata": {
    "kernelspec": {
      "display_name": "Python 3",
      "language": "python",
      "name": "python3"
    },
    "language_info": {
      "codemirror_mode": {
        "name": "ipython",
        "version": 3
      },
      "file_extension": ".py",
      "mimetype": "text/x-python",
      "name": "python",
      "nbconvert_exporter": "python",
      "pygments_lexer": "ipython3",
      "version": "3.7.4"
    },
    "colab": {
      "name": "linearfunction01.ipynb",
      "version": "0.3.2",
      "provenance": []
    }
  },
  "cells": [
    {
      "cell_type": "code",
      "metadata": {
        "id": "KOvg3FsM7r51",
        "colab_type": "code",
        "colab": {}
      },
      "source": [
        "import torch\n",
        "import torch.nn as nn\n",
        "import numpy as np\n",
        "import torch.nn.functional as F\n",
        "import matplotlib.pyplot as plt"
      ],
      "execution_count": 0,
      "outputs": []
    },
    {
      "cell_type": "code",
      "metadata": {
        "id": "wdyGtXXn7r56",
        "colab_type": "code",
        "colab": {
          "base_uri": "https://localhost:8080/",
          "height": 34
        },
        "outputId": "3c897158-f3d5-4e1d-8864-3ac8ea0291d6"
      },
      "source": [
        "# target function\n",
        "a = 1.\n",
        "b = 2.\n",
        "f = lambda x: a*x+b\n",
        "\n",
        "#test\n",
        "f(2.)"
      ],
      "execution_count": 17,
      "outputs": [
        {
          "output_type": "execute_result",
          "data": {
            "text/plain": [
              "4.0"
            ]
          },
          "metadata": {
            "tags": []
          },
          "execution_count": 17
        }
      ]
    },
    {
      "cell_type": "code",
      "metadata": {
        "id": "CiVUxudQ7r5_",
        "colab_type": "code",
        "colab": {}
      },
      "source": [
        "#model\n",
        "#nn.Linear\n",
        "in_dim = 1\n",
        "out_dim = 1\n",
        "\n",
        "model = nn.Sequential(\n",
        "    nn.Linear(in_dim, 2),\n",
        "    nn.ReLU(),\n",
        "    nn.Linear(2, out_dim)\n",
        ")"
      ],
      "execution_count": 0,
      "outputs": []
    },
    {
      "cell_type": "code",
      "metadata": {
        "id": "7TqjOaLs7r6C",
        "colab_type": "code",
        "colab": {}
      },
      "source": [
        "#loss function \n",
        "criterion = nn.MSELoss()"
      ],
      "execution_count": 0,
      "outputs": []
    },
    {
      "cell_type": "code",
      "metadata": {
        "id": "E4rnJCtA7r6G",
        "colab_type": "code",
        "colab": {}
      },
      "source": [
        "#optimizer\n",
        "learning_rate = 0.001\n",
        "optimizer = torch.optim.SGD(model.parameters(), lr=learning_rate) "
      ],
      "execution_count": 0,
      "outputs": []
    },
    {
      "cell_type": "code",
      "metadata": {
        "id": "SbutUBbo7r6K",
        "colab_type": "code",
        "colab": {}
      },
      "source": [
        "#training data\n",
        "\n",
        "batch_size = 5\n",
        "\n",
        "x_train = torch.linspace(0, batch_size-1, batch_size).reshape(batch_size, 1)\n",
        "y_train = a * x_train + b\n"
      ],
      "execution_count": 0,
      "outputs": []
    },
    {
      "cell_type": "code",
      "metadata": {
        "id": "4hNIFisK7r6M",
        "colab_type": "code",
        "colab": {
          "base_uri": "https://localhost:8080/",
          "height": 357
        },
        "outputId": "0a1f9953-93c7-4502-93d8-785cc0d3f998"
      },
      "source": [
        "# Train the model\n",
        "\n",
        "num_epochs = 10000\n",
        "\n",
        "for epoch in range(num_epochs):\n",
        "\n",
        "    # Forward pass\n",
        "    outputs = model(x_train)\n",
        "    loss = criterion(outputs, y_train)\n",
        "    \n",
        "    # Backward and optimize\n",
        "    optimizer.zero_grad()\n",
        "    loss.backward()\n",
        "    optimizer.step()\n",
        "    \n",
        "    if (epoch+1) % 500 == 0:\n",
        "        print ('Epoch [{}/{}], Loss: {:.4f}'.format(epoch+1, \n",
        "                                                    num_epochs, loss.item()))\n"
      ],
      "execution_count": 22,
      "outputs": [
        {
          "output_type": "stream",
          "text": [
            "Epoch [500/10000], Loss: 0.5236\n",
            "Epoch [1000/10000], Loss: 0.1347\n",
            "Epoch [1500/10000], Loss: 0.0324\n",
            "Epoch [2000/10000], Loss: 0.0088\n",
            "Epoch [2500/10000], Loss: 0.0036\n",
            "Epoch [3000/10000], Loss: 0.0016\n",
            "Epoch [3500/10000], Loss: 0.0011\n",
            "Epoch [4000/10000], Loss: 0.0009\n",
            "Epoch [4500/10000], Loss: 0.0008\n",
            "Epoch [5000/10000], Loss: 0.0007\n",
            "Epoch [5500/10000], Loss: 0.0006\n",
            "Epoch [6000/10000], Loss: 0.0006\n",
            "Epoch [6500/10000], Loss: 0.0004\n",
            "Epoch [7000/10000], Loss: 0.0002\n",
            "Epoch [7500/10000], Loss: 0.0001\n",
            "Epoch [8000/10000], Loss: 0.0000\n",
            "Epoch [8500/10000], Loss: 0.0000\n",
            "Epoch [9000/10000], Loss: 0.0000\n",
            "Epoch [9500/10000], Loss: 0.0000\n",
            "Epoch [10000/10000], Loss: 0.0000\n"
          ],
          "name": "stdout"
        }
      ]
    },
    {
      "cell_type": "code",
      "metadata": {
        "id": "qZjRYQGe7r6P",
        "colab_type": "code",
        "colab": {
          "base_uri": "https://localhost:8080/",
          "height": 286
        },
        "outputId": "afdf13ed-3566-4aa7-b16d-dbef9f89c3b0"
      },
      "source": [
        "#test\n",
        "x_ = torch.randn(50,1)\n",
        "y_ = f(x_)\n",
        "plt.plot(x_.detach().numpy(), y_.detach().numpy(), label='true')\n",
        "\n",
        "y_pred = model(x_)\n",
        "plt.plot(x_.detach().numpy(), y_pred.detach().numpy(), label='pred')\n",
        "\n",
        "plt.legend()"
      ],
      "execution_count": 23,
      "outputs": [
        {
          "output_type": "execute_result",
          "data": {
            "text/plain": [
              "<matplotlib.legend.Legend at 0x7f3c4d12aeb8>"
            ]
          },
          "metadata": {
            "tags": []
          },
          "execution_count": 23
        },
        {
          "output_type": "display_data",
          "data": {
            "image/png": "[encoded data removed]",
            "text/plain": [
              "<Figure size 432x288 with 1 Axes>"
            ]
          },
          "metadata": {
            "tags": []
          }
        }
      ]
    },
    {
      "cell_type": "markdown",
      "metadata": {
        "id": "IT6OV7pa7r6R",
        "colab_type": "text"
      },
      "source": [
        "__Todo__\n",
        "\n",
        "- Improve the above code.\n",
        "- train a model to $f(x) = x^2 + 1$\n",
        "- train a model to \n",
        "$$f(x) = \\begin{bmatrix} \n",
        "1 & 1 \\\\\n",
        "0 & 1 \n",
        "\\end{bmatrix} x + \n",
        "\\begin{bmatrix} \n",
        "1  \\\\\n",
        "0  \n",
        "\\end{bmatrix}$$"
      ]
    },
    {
      "cell_type": "code",
      "metadata": {
        "id": "Xm-OqVS_7r6S",
        "colab_type": "code",
        "colab": {}
      },
      "source": [
        ""
      ],
      "execution_count": 0,
      "outputs": []
    }
  ]
}