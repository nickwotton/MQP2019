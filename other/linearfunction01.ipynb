{
 "cells": [
  {
   "cell_type": "code",
   "execution_count": 1,
   "metadata": {
    "colab": {},
    "colab_type": "code",
    "id": "KOvg3FsM7r51"
   },
   "outputs": [],
   "source": [
    "import torch\n",
    "import torch.nn as nn\n",
    "import numpy as np\n",
    "import torch.nn.functional as F\n",
    "import matplotlib.pyplot as plt"
   ]
  },
  {
   "cell_type": "code",
   "execution_count": 2,
   "metadata": {
    "colab": {
     "base_uri": "https://localhost:8080/",
     "height": 34
    },
    "colab_type": "code",
    "id": "wdyGtXXn7r56",
    "outputId": "3c897158-f3d5-4e1d-8864-3ac8ea0291d6"
   },
   "outputs": [
    {
     "data": {
      "text/plain": [
       "4.0"
      ]
     },
     "execution_count": 2,
     "metadata": {},
     "output_type": "execute_result"
    }
   ],
   "source": [
    "# target function\n",
    "a = 1.\n",
    "b = 2.\n",
    "f = lambda x: a*x+b\n",
    "\n",
    "#test\n",
    "f(2.)"
   ]
  },
  {
   "cell_type": "code",
   "execution_count": 3,
   "metadata": {
    "colab": {},
    "colab_type": "code",
    "id": "CiVUxudQ7r5_"
   },
   "outputs": [],
   "source": [
    "#model\n",
    "#nn.Linear\n",
    "in_dim = 1\n",
    "out_dim = 1\n",
    "\n",
    "model = nn.Sequential(\n",
    "    nn.Linear(in_dim, 2),\n",
    "    nn.ReLU(),\n",
    "    nn.Linear(2, out_dim)\n",
    ")"
   ]
  },
  {
   "cell_type": "code",
   "execution_count": 4,
   "metadata": {
    "colab": {},
    "colab_type": "code",
    "id": "7TqjOaLs7r6C"
   },
   "outputs": [],
   "source": [
    "#loss function \n",
    "criterion = nn.MSELoss()"
   ]
  },
  {
   "cell_type": "code",
   "execution_count": 5,
   "metadata": {
    "colab": {},
    "colab_type": "code",
    "id": "E4rnJCtA7r6G"
   },
   "outputs": [],
   "source": [
    "#optimizer\n",
    "learning_rate = 0.001\n",
    "optimizer = torch.optim.SGD(model.parameters(), lr=learning_rate) "
   ]
  },
  {
   "cell_type": "code",
   "execution_count": 6,
   "metadata": {
    "colab": {},
    "colab_type": "code",
    "id": "SbutUBbo7r6K"
   },
   "outputs": [],
   "source": [
    "#training data\n",
    "\n",
    "batch_size = 100\n",
    "\n",
    "x_train = torch.randn(batch_size, 1)\n",
    "y_train = f(x_train)\n"
   ]
  },
  {
   "cell_type": "code",
   "execution_count": 7,
   "metadata": {
    "colab": {
     "base_uri": "https://localhost:8080/",
     "height": 357
    },
    "colab_type": "code",
    "id": "4hNIFisK7r6M",
    "outputId": "0a1f9953-93c7-4502-93d8-785cc0d3f998"
   },
   "outputs": [
    {
     "name": "stdout",
     "output_type": "stream",
     "text": [
      "Epoch [500/10000], Loss: 0.0349\n",
      "Epoch [1000/10000], Loss: 0.0042\n",
      "Epoch [1500/10000], Loss: 0.0031\n",
      "Epoch [2000/10000], Loss: 0.0029\n",
      "Epoch [2500/10000], Loss: 0.0026\n",
      "Epoch [3000/10000], Loss: 0.0025\n",
      "Epoch [3500/10000], Loss: 0.0024\n",
      "Epoch [4000/10000], Loss: 0.0023\n",
      "Epoch [4500/10000], Loss: 0.0022\n",
      "Epoch [5000/10000], Loss: 0.0022\n",
      "Epoch [5500/10000], Loss: 0.0021\n",
      "Epoch [6000/10000], Loss: 0.0021\n",
      "Epoch [6500/10000], Loss: 0.0021\n",
      "Epoch [7000/10000], Loss: 0.0021\n",
      "Epoch [7500/10000], Loss: 0.0020\n",
      "Epoch [8000/10000], Loss: 0.0020\n",
      "Epoch [8500/10000], Loss: 0.0020\n",
      "Epoch [9000/10000], Loss: 0.0020\n",
      "Epoch [9500/10000], Loss: 0.0020\n",
      "Epoch [10000/10000], Loss: 0.0020\n"
     ]
    }
   ],
   "source": [
    "# Train the model\n",
    "\n",
    "num_epochs = 10000\n",
    "\n",
    "for epoch in range(num_epochs):\n",
    "\n",
    "    # Forward pass\n",
    "    outputs = model(x_train)\n",
    "    loss = criterion(outputs, y_train)\n",
    "    \n",
    "    # Backward and optimize\n",
    "    optimizer.zero_grad()\n",
    "    loss.backward()\n",
    "    optimizer.step()\n",
    "    \n",
    "    if (epoch+1) % 500 == 0:\n",
    "        print ('Epoch [{}/{}], Loss: {:.4f}'.format(epoch+1, \n",
    "                                                    num_epochs, loss.item()))\n"
   ]
  },
  {
   "cell_type": "code",
   "execution_count": 8,
   "metadata": {
    "colab": {
     "base_uri": "https://localhost:8080/",
     "height": 286
    },
    "colab_type": "code",
    "id": "qZjRYQGe7r6P",
    "outputId": "afdf13ed-3566-4aa7-b16d-dbef9f89c3b0"
   },
   "outputs": [
    {
     "data": {
      "text/plain": [
       "<matplotlib.legend.Legend at 0x11cfd5a10>"
      ]
     },
     "execution_count": 8,
     "metadata": {},
     "output_type": "execute_result"
    },
    {
     "data": {
      "image/png": "[encoded data removed]",
      "text/plain": [
       "<Figure size 432x288 with 1 Axes>"
      ]
     },
     "metadata": {
      "needs_background": "light"
     },
     "output_type": "display_data"
    }
   ],
   "source": [
    "#test\n",
    "x_ = torch.randn(50,1)\n",
    "y_ = f(x_)\n",
    "plt.scatter(x_.detach().numpy(), y_.detach().numpy(), label='true')\n",
    "\n",
    "y_pred = model(x_)\n",
    "plt.scatter(x_.detach().numpy(), y_pred.detach().numpy(), label='pred')\n",
    "\n",
    "plt.legend()"
   ]
  },
  {
   "cell_type": "markdown",
   "metadata": {
    "colab_type": "text",
    "id": "IT6OV7pa7r6R"
   },
   "source": [
    "__Todo__\n",
    "\n",
    "- Improve the above code.\n",
    "- train a model to $f(x) = x^2 + 1$\n",
    "- train a model to \n",
    "$$f(x) = \\begin{bmatrix} \n",
    "1 & 1 \\\\\n",
    "0 & 1 \n",
    "\\end{bmatrix} x + \n",
    "\\begin{bmatrix} \n",
    "1  \\\\\n",
    "0  \n",
    "\\end{bmatrix}$$"
   ]
  },
  {
   "cell_type": "code",
   "execution_count": null,
   "metadata": {
    "colab": {},
    "colab_type": "code",
    "id": "Xm-OqVS_7r6S"
   },
   "outputs": [],
   "source": []
  }
 ],
 "metadata": {
  "colab": {
   "name": "linearfunction01.ipynb",
   "provenance": [],
   "version": "0.3.2"
  },
  "kernelspec": {
   "display_name": "Python 3",
   "language": "python",
   "name": "python3"
  },
  "language_info": {
   "codemirror_mode": {
    "name": "ipython",
    "version": 3
   },
   "file_extension": ".py",
   "mimetype": "text/x-python",
   "name": "python",
   "nbconvert_exporter": "python",
   "pygments_lexer": "ipython3",
   "version": "3.7.4"
  }
 },
 "nbformat": 4,
 "nbformat_minor": 1
}
