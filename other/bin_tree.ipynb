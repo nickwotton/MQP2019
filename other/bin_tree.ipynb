{
 "cells": [
  {
   "cell_type": "markdown",
   "metadata": {},
   "source": [
    "# Arbitrage theory on discrete model"
   ]
  },
  {
   "cell_type": "markdown",
   "metadata": {},
   "source": [
    "__Def__\n",
    "\n",
    "A simple rate $r$ for a period $[0, T]$ is a savings account, which makes the balance at time $t=T$  \n",
    "$$X_T = X_0 (1 +r T)$$ \n",
    "from the initial capital $X_0$ at time $t=0$."
   ]
  },
  {
   "cell_type": "markdown",
   "metadata": {},
   "source": [
    "__Def__\n",
    "\n",
    "A n-step binomial tree model $B(n, p, S, u, d)$ is given by\n",
    "\n",
    "- At $t=0$, the price is $S_t = S$;\n",
    "- $\\{X_t: 1\\le t \\le n\\}$ is iid Bernoulli$(p)$ random variables;\n",
    "- If $1\\le t \\le n$, the price is \n",
    "$$S_{t} = S_{t-1} ( I(X_{t}= 1) u  + I(X_{t}= 0) d).$$ "
   ]
  },
  {
   "cell_type": "markdown",
   "metadata": {},
   "source": [
    "__Def__\n",
    "\n",
    "An asset model is called arbitrage free if .... (need input)\n"
   ]
  },
  {
   "cell_type": "markdown",
   "metadata": {},
   "source": [
    "__ex__ Given an asset model $B(1, p, S, u, d)$ and simple rate $0\\le r\\le 1$ on period $[0,1]$, prove that it is arbitrage free if and only if $d \\le 1 + r \\le u$."
   ]
  },
  {
   "cell_type": "markdown",
   "metadata": {},
   "source": [
    "__proof__\n",
    "\n",
    "your input."
   ]
  },
  {
   "cell_type": "code",
   "execution_count": null,
   "metadata": {},
   "outputs": [],
   "source": []
  }
 ],
 "metadata": {
  "kernelspec": {
   "display_name": "Python 3",
   "language": "python",
   "name": "python3"
  },
  "language_info": {
   "codemirror_mode": {
    "name": "ipython",
    "version": 3
   },
   "file_extension": ".py",
   "mimetype": "text/x-python",
   "name": "python",
   "nbconvert_exporter": "python",
   "pygments_lexer": "ipython3",
   "version": "3.7.4"
  }
 },
 "nbformat": 4,
 "nbformat_minor": 2
}
