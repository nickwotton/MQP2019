{
  "nbformat": 4,
  "nbformat_minor": 0,
  "metadata": {
    "colab": {
      "name": "Copy of NN CRR",
      "provenance": [],
      "collapsed_sections": [],
      "include_colab_link": true
    },
    "kernelspec": {
      "display_name": "Python 3",
      "language": "python",
      "name": "python3"
    },
    "language_info": {
      "codemirror_mode": {
        "name": "ipython",
        "version": 3
      },
      "file_extension": ".py",
      "mimetype": "text/x-python",
      "name": "python",
      "nbconvert_exporter": "python",
      "pygments_lexer": "ipython3",
      "version": "3.7.4"
    }
  },
  "cells": [
    {
      "cell_type": "markdown",
      "metadata": {
        "id": "view-in-github",
        "colab_type": "text"
      },
      "source": [
        "<a href=\"https://colab.research.google.com/github/pphongsopa/MQP2019/blob/master/Pavee/comparison.ipynb\" target=\"_parent\"><img src=\"https://colab.research.google.com/assets/colab-badge.svg\" alt=\"Open In Colab\"/></a>"
      ]
    },
    {
      "cell_type": "code",
      "metadata": {
        "colab_type": "code",
        "id": "KOvg3FsM7r51",
        "colab": {}
      },
      "source": [
        "import torch\n",
        "import torch.nn as nn\n",
        "import numpy \n",
        "import torch.nn.functional as F\n",
        "import matplotlib.pyplot as plt"
      ],
      "execution_count": 0,
      "outputs": []
    },
    {
      "cell_type": "code",
      "metadata": {
        "colab_type": "code",
        "id": "CiVUxudQ7r5_",
        "colab": {}
      },
      "source": [
        "#Neural Network \n",
        "a = 20\n",
        "model = nn.Sequential(\n",
        "    nn.Linear(1, a),\n",
        "    nn.ReLU(),\n",
        "    nn.Linear(a, a),\n",
        "    nn.Linear(a, 1)\n",
        ")"
      ],
      "execution_count": 0,
      "outputs": []
    },
    {
      "cell_type": "code",
      "metadata": {
        "colab_type": "code",
        "id": "E4rnJCtA7r6G",
        "colab": {}
      },
      "source": [
        "#optimizer\n",
        "learning_rate = 0.001\n",
        "optimizer = torch.optim.SGD(model.parameters(), lr=learning_rate) "
      ],
      "execution_count": 0,
      "outputs": []
    },
    {
      "cell_type": "code",
      "metadata": {
        "id": "qPBeeko7UoUf",
        "colab_type": "code",
        "colab": {}
      },
      "source": [
        "#CRR function\n",
        "def CRRAmericanOption(porc, n, T, S, K, r, sigma, q, tree):\n",
        "  #type 'call' or 'put'\n",
        "  # Variables and Initialization\n",
        "  # n = Steps/height of bionomial tree\n",
        "  # T = Time until maturity\n",
        "  # S = Base price\n",
        "  # K = Strike price\n",
        "  # r = Interest\n",
        "  # q = Dividend\n",
        "  # sigma = volatility\n",
        "  # tree = show option tree if True doesn't show if False\n",
        "  \n",
        "  dt = T/n #delta t for each step\n",
        "  u = numpy.exp(sigma*numpy.sqrt(dt)) # Price multiplier if it goes up\n",
        "  d = 1/u                             # Price multiplier if it does down\n",
        "  p = (numpy.exp((r-q)*dt)-d)/(u-d)       # Formula for calculating probability for each price \n",
        "  \n",
        "  # Binomial tree\n",
        "  # Constructing the tree\n",
        "  binomial_tree = numpy.zeros([n+1, n+1])\n",
        "  \n",
        "  # Initializing the tree\n",
        "  for i in range(n+1):\n",
        "      for j in range(i+1):\n",
        "        binomial_tree[j, i] = S*(d**j)*u**(i-j)\n",
        "\n",
        "\n",
        "  # Exercise tree\n",
        "  # Constructing the tree\n",
        "  exercise_tree = numpy.zeros([n+1, n+1])\n",
        "  \n",
        "  # Initializing the tree\n",
        "  for i in range(n+1):\n",
        "      for j in range(i+1):\n",
        "        exercise_tree[j, i] = K\n",
        "  \n",
        "  # Options\n",
        "  # Option value\n",
        "  option = numpy.zeros([n+1, n+1])\n",
        "  # From wiki page call option value is Max [ (Sn − K), 0 ]\n",
        "  if porc is 'call': \n",
        "    option[:, n] = numpy.maximum(numpy.zeros(n+1), binomial_tree[:, n]-exercise_tree[:, n]) \n",
        "  \n",
        "  if porc is 'put':\n",
        "    option[:, n] = numpy.maximum(numpy.zeros(n+1), exercise_tree[:, n]-binomial_tree[:, n]) \n",
        "\n",
        "  # Calculatig the price at t = 0\n",
        "  for i in numpy.arange(n-1, -1, -1):\n",
        "     for j in numpy.arange(0, i+1):\n",
        "        option[j, i] = numpy.exp(-r*dt)*(p*option[j, i+1]+(1-p)*option[j+1, i+1])\n",
        "\n",
        "  if porc is 'call':   \n",
        "    option[:, n] = numpy.maximum(option[:, n], binomial_tree[:, n]-exercise_tree[:, n]) \n",
        "\n",
        "  if porc is 'put':\n",
        "    option[:, n] = numpy.maximum(option[:, n], exercise_tree[:, n]-binomial_tree[:, n]) \n",
        "\n",
        "        \n",
        "  # Return value\n",
        "  #if tree: \n",
        "  #  print(numpy.matrix(option))\n",
        "  #  return option[0, 0]  \n",
        "  # else: \n",
        "  return option[0, 0]"
      ],
      "execution_count": 0,
      "outputs": []
    },
    {
      "cell_type": "code",
      "metadata": {
        "id": "nWgGr0WYuZCn",
        "colab_type": "code",
        "colab": {}
      },
      "source": [
        "#CRR function\n",
        "def CRRAmericanOption2(porc, n, T, S, K, r, sigma, q, tree):\n",
        "  #porc 'call' or 'put'\n",
        "  # Variables and Initialization\n",
        "  # n = Steps/height of bionomial tree\n",
        "  # T = Time until maturity\n",
        "  # S = Base price\n",
        "  # K = Strike price\n",
        "  # r = Interest\n",
        "  # q = Dividend\n",
        "  # sigma = volatility\n",
        "  # tree = show option tree if True doesn't show if False\n",
        "  \n",
        "  dt = T/n #delta t for each step\n",
        "  u = numpy.exp(sigma*numpy.sqrt(dt)) # Price multiplier if it goes up\n",
        "  d = 1/u                             # Price multiplier if it does down\n",
        "  p = (numpy.exp((r-q)*dt)-d)/(u-d)       # Formula for calculating probability for each price \n",
        "  \n",
        "  # Binomial tree\n",
        "  # Constructing the tree\n",
        "  binomial_tree = numpy.zeros([n+1, n+1])\n",
        "  \n",
        "  # Initializing the tree\n",
        "  for i in range(n+1):\n",
        "      for j in range(i+1):\n",
        "        binomial_tree[j, i] = S*(d**j)*u**(i-j)\n",
        "\n",
        "\n",
        "  # Exercise tree\n",
        "  # Constructing the tree\n",
        "  exercise_tree = numpy.zeros([n+1, n+1])\n",
        "  \n",
        "  # Initializing the tree\n",
        "  for i in range(n+1):\n",
        "      for j in range(i+1):\n",
        "        exercise_tree[j, i] = K\n",
        "  \n",
        "  # Options\n",
        "  # Option value\n",
        "  option = numpy.zeros([n+1, n+1])\n",
        "  # From wiki page call option value is Max [ (Sn − K), 0 ]\n",
        "  if porc is 'call': \n",
        "    option[:, n] = numpy.maximum(numpy.zeros(n+1), binomial_tree[:, n]-exercise_tree[:, n]) \n",
        "  \n",
        "  if porc is 'put':\n",
        "    option[:, n] = numpy.maximum(numpy.zeros(n+1), exercise_tree[:, n]-binomial_tree[:, n]) \n",
        "\n",
        "  # Calculatig the price at t = 0\n",
        "  for i in numpy.arange(n-1, -1, -1):\n",
        "     for j in numpy.arange(0, i+1):\n",
        "        option[j, i] = 0\n",
        "\n",
        "  if porc is 'call':   \n",
        "    option[:, n] = numpy.maximum(option[:, n], binomial_tree[:, n]-exercise_tree[:, n]) \n",
        "\n",
        "  if porc is 'put':\n",
        "    option[:, n] = numpy.maximum(option[:, n], exercise_tree[:, n]-binomial_tree[:, n]) \n",
        "\n",
        "        \n",
        "  # Return value\n",
        "  #if tree: \n",
        "  #  print(numpy.matrix(option))\n",
        "  #  return option[0, 0]  \n",
        "  # else: \n",
        "  return option[0, 0]"
      ],
      "execution_count": 0,
      "outputs": []
    },
    {
      "cell_type": "code",
      "metadata": {
        "id": "xKZZeaxQuc86",
        "colab_type": "code",
        "outputId": "54923256-4f6c-435d-9a36-ba55bca556e4",
        "colab": {
          "base_uri": "https://localhost:8080/",
          "height": 34
        }
      },
      "source": [
        "CRRAmericanOption('put', 1, 100, 200, 250, 0.05, 0.09, 0.01, 'tree')"
      ],
      "execution_count": 0,
      "outputs": [
        {
          "output_type": "execute_result",
          "data": {
            "text/plain": [
              "-28.86487648646327"
            ]
          },
          "metadata": {
            "tags": []
          },
          "execution_count": 11
        }
      ]
    },
    {
      "cell_type": "code",
      "metadata": {
        "id": "rLhk8GMtudFI",
        "colab_type": "code",
        "outputId": "f5d83a5a-044a-41bd-803d-017d7fcc7b88",
        "colab": {
          "base_uri": "https://localhost:8080/",
          "height": 34
        }
      },
      "source": [
        "CRRAmericanOption2('put', 1, 100, 200, 250, 0.05, 0.09, 0.01, 'tree')"
      ],
      "execution_count": 0,
      "outputs": [
        {
          "output_type": "execute_result",
          "data": {
            "text/plain": [
              "0.0"
            ]
          },
          "metadata": {
            "tags": []
          },
          "execution_count": 12
        }
      ]
    },
    {
      "cell_type": "code",
      "metadata": {
        "colab_type": "code",
        "id": "7TqjOaLs7r6C",
        "colab": {}
      },
      "source": [
        "#loss function \n",
        "criterion = nn.MSELoss()"
      ],
      "execution_count": 0,
      "outputs": []
    },
    {
      "cell_type": "code",
      "metadata": {
        "colab_type": "code",
        "id": "SbutUBbo7r6K",
        "colab": {}
      },
      "source": [
        "#training data\n",
        "#training size per epoch\n",
        "batch_size = 100\n",
        "#creating a list\n",
        "a = []\n",
        "#generate randomize data\n",
        "x_train = torch.randn(batch_size, 1)\n",
        "\n",
        "#run loop on training to create output array\n",
        "for i in range(batch_size):\n",
        "  y = CRRAmericanOption('call', 10, 100, 200, x_train[i], 0.05, 0.11, 0.1, False)\n",
        "  a.append(y)\n",
        "\n",
        "#transform list to array\n",
        "b = numpy.array(a)\n",
        "#transform array into tensor set\n",
        "y_train = torch.from_numpy(b)"
      ],
      "execution_count": 0,
      "outputs": []
    },
    {
      "cell_type": "code",
      "metadata": {
        "colab_type": "code",
        "id": "4hNIFisK7r6M",
        "outputId": "0f1e3072-0683-4263-bcdd-fa550af74a96",
        "colab": {
          "base_uri": "https://localhost:8080/",
          "height": 406
        }
      },
      "source": [
        "# Train the model\n",
        "\n",
        "num_epochs = 10000\n",
        "\n",
        "for epoch in range(num_epochs):\n",
        "   \n",
        "    # Forward pass\n",
        "    outputs = model(x_train)\n",
        "    loss = criterion(outputs, y_train.float())\n",
        "    \n",
        "    # Backward and optimize\n",
        "    optimizer.zero_grad()\n",
        "    loss.backward()\n",
        "    optimizer.step()\n",
        "    \n",
        "    if (epoch+1) % 500 == 0:\n",
        "        print ('Epoch [{}/{}], Loss: {:.4f}'.format(epoch+1, \n",
        "                                                    num_epochs, loss.item()))"
      ],
      "execution_count": 0,
      "outputs": [
        {
          "output_type": "stream",
          "text": [
            "/usr/local/lib/python3.6/dist-packages/torch/nn/modules/loss.py:431: UserWarning: Using a target size (torch.Size([100])) that is different to the input size (torch.Size([100, 1])). This will likely lead to incorrect results due to broadcasting. Please ensure they have the same size.\n",
            "  return F.mse_loss(input, target, reduction=self.reduction)\n"
          ],
          "name": "stderr"
        },
        {
          "output_type": "stream",
          "text": [
            "Epoch [500/10000], Loss: 0.0006\n",
            "Epoch [1000/10000], Loss: 0.0005\n",
            "Epoch [1500/10000], Loss: 0.0004\n",
            "Epoch [2000/10000], Loss: 0.0004\n",
            "Epoch [2500/10000], Loss: 0.0003\n",
            "Epoch [3000/10000], Loss: 0.0003\n",
            "Epoch [3500/10000], Loss: 0.0003\n",
            "Epoch [4000/10000], Loss: 0.0003\n",
            "Epoch [4500/10000], Loss: 0.0003\n",
            "Epoch [5000/10000], Loss: 0.0002\n",
            "Epoch [5500/10000], Loss: 0.0002\n",
            "Epoch [6000/10000], Loss: 0.0002\n",
            "Epoch [6500/10000], Loss: 0.0002\n",
            "Epoch [7000/10000], Loss: 0.0002\n",
            "Epoch [7500/10000], Loss: 0.0002\n",
            "Epoch [8000/10000], Loss: 0.0002\n",
            "Epoch [8500/10000], Loss: 0.0002\n",
            "Epoch [9000/10000], Loss: 0.0002\n",
            "Epoch [9500/10000], Loss: 0.0002\n",
            "Epoch [10000/10000], Loss: 0.0002\n"
          ],
          "name": "stdout"
        }
      ]
    },
    {
      "cell_type": "code",
      "metadata": {
        "id": "vsgndlW3nb7L",
        "colab_type": "code",
        "colab": {}
      },
      "source": [
        "#test\n",
        "#x_ = torch.randn(1, 1)\n",
        "#y = CRRAmericanOption('call', 10, 100, 200, x_train, 0.05, 0.11, 0.1, False)\n",
        "#a = numpy.array([y])\n",
        "#y_ = torch.from_numpy(a)\n",
        "\n",
        "#plt.scatter(x_.detach().numpy(), y_.detach().numpy(), label='true')\n",
        "\n",
        "#y_pred = model(x_)\n",
        "#plt.scatter(x_.detach().numpy(), y_pred.detach().numpy(), label='pred')\n",
        "\n",
        "#plt.legend()"
      ],
      "execution_count": 0,
      "outputs": []
    }
  ]
}