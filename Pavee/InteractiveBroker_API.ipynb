{
  "nbformat": 4,
  "nbformat_minor": 0,
  "metadata": {
    "colab": {
      "name": "InteractiveBroker API.ipynb",
      "provenance": [],
      "collapsed_sections": [],
      "include_colab_link": true
    },
    "kernelspec": {
      "name": "python3",
      "display_name": "Python 3"
    }
  },
  "cells": [
    {
      "cell_type": "markdown",
      "metadata": {
        "id": "view-in-github",
        "colab_type": "text"
      },
      "source": [
        "<a href=\"https://colab.research.google.com/github/pphongsopa/MQP2019/blob/master/Pavee/InteractiveBroker_API.ipynb\" target=\"_parent\"><img src=\"https://colab.research.google.com/assets/colab-badge.svg\" alt=\"Open In Colab\"/></a>"
      ]
    },
    {
      "cell_type": "markdown",
      "metadata": {
        "id": "_JeOjqQcVRB5",
        "colab_type": "text"
      },
      "source": [
        "Possible application with our option trading algorithm"
      ]
    },
    {
      "cell_type": "markdown",
      "metadata": {
        "id": "cRXinUeEUlrr",
        "colab_type": "text"
      },
      "source": [
        "List of neccessary imports"
      ]
    },
    {
      "cell_type": "code",
      "metadata": {
        "id": "4WxAa6AcPlmR",
        "colab_type": "code",
        "colab": {}
      },
      "source": [
        "from ib.opt import Connection, message\n",
        "from ib.ext.Contract import Contract\n",
        "from ib.ext.Order import Order"
      ],
      "execution_count": 0,
      "outputs": []
    },
    {
      "cell_type": "markdown",
      "metadata": {
        "id": "e9run1vATTKI",
        "colab_type": "text"
      },
      "source": [
        "To make the order through interactive broker API we need contract and order"
      ]
    },
    {
      "cell_type": "markdown",
      "metadata": {
        "id": "uaixX4LkTcoP",
        "colab_type": "text"
      },
      "source": [
        "First we create the contract function specifying which exchange and currency"
      ]
    },
    {
      "cell_type": "code",
      "metadata": {
        "id": "nSlyxMzRSKGS",
        "colab_type": "code",
        "colab": {}
      },
      "source": [
        "def make_contract(symbol, sec_type, exch, prim_exchange, curr):\n",
        "    #Stock Symbol\n",
        "    Contract.m_symbol = symbol\n",
        "    #Security Type\n",
        "    Contract.m_secType = sec_type\n",
        "    #which exchange\n",
        "    Contract.m_exchange = exch\n",
        "    #which primary exchange\n",
        "    Contract.m_primaryExch = prim_exch\n",
        "    #what currency\n",
        "    Contract.m_currency = curr\n",
        "    return Contract"
      ],
      "execution_count": 0,
      "outputs": []
    },
    {
      "cell_type": "markdown",
      "metadata": {
        "id": "f9_LYlH4TkAw",
        "colab_type": "text"
      },
      "source": [
        "Then we make the order function that takes in action, price and quantity."
      ]
    },
    {
      "cell_type": "code",
      "metadata": {
        "id": "xAj-P5crSOnb",
        "colab_type": "code",
        "colab": {}
      },
      "source": [
        "def make_order(action,quantity, price = None):\n",
        "  #action is either buy or sell\n",
        "  #in this case buy if true \n",
        "  #quantity is how much\n",
        "  #and price is self-explanatory\n",
        "  if price is not None:\n",
        "        order = Order()\n",
        "        order.m_orderType = 'LMT'\n",
        "        order.m_totalQuantity = quantity\n",
        "        order.m_action = action\n",
        "        order.m_lmtPrice = price\n",
        "  else:\n",
        "        order = Order()\n",
        "        order.m_orderType = 'MKT'\n",
        "        order.m_totalQuantity = quantity\n",
        "        order.m_action = action\n",
        "  return order"
      ],
      "execution_count": 0,
      "outputs": []
    },
    {
      "cell_type": "markdown",
      "metadata": {
        "id": "tUQBvXk9U33t",
        "colab_type": "text"
      },
      "source": [
        "Create main() function for user to make trade request"
      ]
    },
    {
      "cell_type": "markdown",
      "metadata": {
        "id": "Q63Ya8_dSddv",
        "colab_type": "text"
      },
      "source": [
        "Port and ClientID can be retrieve from Interactive Broker Paper or Real trading client"
      ]
    },
    {
      "cell_type": "code",
      "metadata": {
        "id": "FTzKNr6vSOpr",
        "colab_type": "code",
        "colab": {}
      },
      "source": [
        "def main():\n",
        "    #First Connect to the Client\n",
        "    conn = Connection.create(port=9999, clientId=999) \n",
        "    conn.connect()\n",
        "    #Unique order ID\n",
        "    oid = cid\n",
        "    #Example of how to make an order\n",
        "    cont = make_contract('TSLA', 'STK', 'SMART', 'SMART', 'USD')\n",
        "    offer = make_order('BUY', 1, 200)\n",
        "    conn.placeOrder(oid, cont, offer)\n",
        "    #Disconnect otherwise this will keep looping over and over.\n",
        "    conn.disconnect()\n",
        "    #Wait for next input\n",
        "    x = raw_input('enter to resend')\\\n",
        "    #Increment order ID by 1 so it stays unique\n",
        "    cid += 1"
      ],
      "execution_count": 0,
      "outputs": []
    }
  ]
}