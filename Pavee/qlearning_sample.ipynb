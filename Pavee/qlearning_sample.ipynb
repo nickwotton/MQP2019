{
  "nbformat": 4,
  "nbformat_minor": 0,
  "metadata": {
    "colab": {
      "name": "qlearning sample",
      "provenance": [],
      "collapsed_sections": [],
      "include_colab_link": true
    },
    "kernelspec": {
      "name": "python3",
      "display_name": "Python 3"
    }
  },
  "cells": [
    {
      "cell_type": "markdown",
      "metadata": {
        "id": "view-in-github",
        "colab_type": "text"
      },
      "source": [
        "<a href=\"https://colab.research.google.com/github/pphongsopa/MQP2019/blob/master/Pavee/qlearning_sample.ipynb\" target=\"_parent\"><img src=\"https://colab.research.google.com/assets/colab-badge.svg\" alt=\"Open In Colab\"/></a>"
      ]
    },
    {
      "cell_type": "code",
      "metadata": {
        "id": "TJSUsM1DsNFa",
        "colab_type": "code",
        "colab": {}
      },
      "source": [
        "import numpy as np\n",
        "import pylab as plt"
      ],
      "execution_count": 0,
      "outputs": []
    },
    {
      "cell_type": "code",
      "metadata": {
        "id": "vBHD-VcDDbC-",
        "colab_type": "code",
        "colab": {}
      },
      "source": [
        "# map cell to cell, add circular cell to goal point\n",
        "points_list = [(0,1), (1,5), (5,6), (5,4), (1,2), (2,3), (2,7)]"
      ],
      "execution_count": 0,
      "outputs": []
    },
    {
      "cell_type": "code",
      "metadata": {
        "id": "qIjGsDpyDdPW",
        "colab_type": "code",
        "colab": {
          "base_uri": "https://localhost:8080/",
          "height": 248
        },
        "outputId": "026ed26d-b699-4f98-d895-a3194ef85006"
      },
      "source": [
        "goal = 7\n",
        "\n",
        "import networkx as nx\n",
        "G=nx.Graph()\n",
        "G.add_edges_from(points_list)\n",
        "pos = nx.spring_layout(G)\n",
        "nx.draw_networkx_nodes(G,pos)\n",
        "nx.draw_networkx_edges(G,pos)\n",
        "nx.draw_networkx_labels(G,pos)\n",
        "plt.show()"
      ],
      "execution_count": 43,
      "outputs": [
        {
          "output_type": "display_data",
          "data": {
            "image/png": "[encoded data removed]",
            "text/plain": [
              "<Figure size 432x288 with 1 Axes>"
            ]
          },
          "metadata": {
            "tags": []
          }
        }
      ]
    },
    {
      "cell_type": "code",
      "metadata": {
        "id": "G9_JNGs2DdXv",
        "colab_type": "code",
        "colab": {}
      },
      "source": [
        "# how many points in graph? x points\n",
        "MATRIX_SIZE = 8\n",
        "\n",
        "# create matrix x*y\n",
        "R = np.matrix(np.ones(shape=(MATRIX_SIZE, MATRIX_SIZE)))\n",
        "R *= -1"
      ],
      "execution_count": 0,
      "outputs": []
    },
    {
      "cell_type": "code",
      "metadata": {
        "id": "kV5Tg4tODdad",
        "colab_type": "code",
        "colab": {
          "base_uri": "https://localhost:8080/",
          "height": 134
        },
        "outputId": "3b54985b-5c47-42e0-cd88-9ec69e5f3b4b"
      },
      "source": [
        "# assign zeros to paths and 100 to goal-reaching point\n",
        "for point in points_list:\n",
        "    print(point)\n",
        "    if point[1] == goal:\n",
        "        R[point] = 100\n",
        "    else:\n",
        "        R[point] = 0\n",
        "\n",
        "    if point[0] == goal:\n",
        "        R[point[::-1]] = 100\n",
        "    else:\n",
        "        # reverse of point\n",
        "        R[point[::-1]]= 0\n",
        "\n",
        "# add goal point round trip\n",
        "R[goal,goal]= 100"
      ],
      "execution_count": 45,
      "outputs": [
        {
          "output_type": "stream",
          "text": [
            "(0, 1)\n",
            "(1, 5)\n",
            "(5, 6)\n",
            "(5, 4)\n",
            "(1, 2)\n",
            "(2, 3)\n",
            "(2, 7)\n"
          ],
          "name": "stdout"
        }
      ]
    },
    {
      "cell_type": "code",
      "metadata": {
        "id": "N9f4fSVSDdcu",
        "colab_type": "code",
        "colab": {}
      },
      "source": [
        "Q = np.matrix(np.zeros([MATRIX_SIZE,MATRIX_SIZE]))"
      ],
      "execution_count": 0,
      "outputs": []
    },
    {
      "cell_type": "code",
      "metadata": {
        "id": "qZm0JRztDwqL",
        "colab_type": "code",
        "colab": {
          "base_uri": "https://localhost:8080/",
          "height": 34
        },
        "outputId": "6a2aa58f-2033-446f-9d9e-c413abf49c09"
      },
      "source": [
        "# learning parameter\n",
        "gamma = 0.8\n",
        "\n",
        "initial_state = 1\n",
        "\n",
        "def available_actions(state):\n",
        "    current_state_row = R[state,]\n",
        "    av_act = np.where(current_state_row >= 0)[1]\n",
        "    return av_act\n",
        "\n",
        "available_act = available_actions(initial_state) \n",
        "\n",
        "def sample_next_action(available_actions_range):\n",
        "    next_action = int(np.random.choice(available_act,1))\n",
        "    return next_action\n",
        "\n",
        "action = sample_next_action(available_act)\n",
        "\n",
        "def update(current_state, action, gamma):\n",
        "    \n",
        "  max_index = np.where(Q[action,] == np.max(Q[action,]))[1]\n",
        "  \n",
        "  if max_index.shape[0] > 1:\n",
        "      max_index = int(np.random.choice(max_index, size = 1))\n",
        "  else:\n",
        "      max_index = int(max_index)\n",
        "  max_value = Q[action, max_index]\n",
        "  \n",
        "  Q[current_state, action] = R[current_state, action] + gamma * max_value\n",
        "  #print('max_value', R[current_state, action] + gamma * max_value)\n",
        "  \n",
        "  if (np.max(Q) > 0):\n",
        "    return(np.sum(Q/np.max(Q)*100))\n",
        "  else:\n",
        "    return (0)\n",
        "    \n",
        "update(initial_state, action, gamma)"
      ],
      "execution_count": 47,
      "outputs": [
        {
          "output_type": "execute_result",
          "data": {
            "text/plain": [
              "0"
            ]
          },
          "metadata": {
            "tags": []
          },
          "execution_count": 47
        }
      ]
    },
    {
      "cell_type": "code",
      "metadata": {
        "id": "XLlO4ffiHLq2",
        "colab_type": "code",
        "colab": {}
      },
      "source": [
        "# Training\n",
        "scores = []\n",
        "for i in range(700):\n",
        "    current_state = np.random.randint(0, int(Q.shape[0]))\n",
        "    available_act = available_actions(current_state)\n",
        "    action = sample_next_action(available_act)\n",
        "    score = update(current_state,action,gamma)\n",
        "    scores.append(score)\n",
        "    #print ('Score:', str(score))\n",
        "    \n",
        "#print(\"Trained Q matrix:\")\n",
        "#print(Q/np.max(Q)*100)"
      ],
      "execution_count": 0,
      "outputs": []
    },
    {
      "cell_type": "code",
      "metadata": {
        "id": "_SQEHX11HN8I",
        "colab_type": "code",
        "colab": {
          "base_uri": "https://localhost:8080/",
          "height": 298
        },
        "outputId": "daa83b2b-5037-4def-8029-3c33ce541992"
      },
      "source": [
        "# Testing\n",
        "current_state = 0\n",
        "steps = [current_state]\n",
        "\n",
        "while current_state != 7:\n",
        "\n",
        "    next_step_index = np.where(Q[current_state,] == np.max(Q[current_state,]))[1]\n",
        "    \n",
        "    if next_step_index.shape[0] > 1:\n",
        "        next_step_index = int(np.random.choice(next_step_index, size = 1))\n",
        "    else:\n",
        "        next_step_index = int(next_step_index)\n",
        "    \n",
        "    steps.append(next_step_index)\n",
        "    current_state = next_step_index\n",
        "\n",
        "print(\"Most efficient path:\")\n",
        "print(steps)\n",
        "\n",
        "plt.plot(scores)\n",
        "plt.show()\n"
      ],
      "execution_count": 49,
      "outputs": [
        {
          "output_type": "stream",
          "text": [
            "Most efficient path:\n",
            "[0, 1, 2, 7]\n"
          ],
          "name": "stdout"
        },
        {
          "output_type": "display_data",
          "data": {
            "image/png": "[encoded data removed]",
            "text/plain": [
              "<Figure size 432x288 with 1 Axes>"
            ]
          },
          "metadata": {
            "tags": []
          }
        }
      ]
    }
  ]
}