{
  "nbformat": 4,
  "nbformat_minor": 0,
  "metadata": {
    "colab": {
      "name": "Deep learning for CRR",
      "provenance": [],
      "collapsed_sections": [],
      "include_colab_link": true
    },
    "kernelspec": {
      "display_name": "Python 3",
      "language": "python",
      "name": "python3"
    },
    "language_info": {
      "codemirror_mode": {
        "name": "ipython",
        "version": 3
      },
      "file_extension": ".py",
      "mimetype": "text/x-python",
      "name": "python",
      "nbconvert_exporter": "python",
      "pygments_lexer": "ipython3",
      "version": "3.7.4"
    }
  },
  "cells": [
    {
      "cell_type": "markdown",
      "metadata": {
        "id": "view-in-github",
        "colab_type": "text"
      },
      "source": [
        "<a href=\"https://colab.research.google.com/github/pphongsopa/MQP2019/blob/master/Pavee/Deep_learning_for_CRR.ipynb\" target=\"_parent\"><img src=\"https://colab.research.google.com/assets/colab-badge.svg\" alt=\"Open In Colab\"/></a>"
      ]
    },
    {
      "cell_type": "code",
      "metadata": {
        "colab_type": "code",
        "id": "KOvg3FsM7r51",
        "colab": {}
      },
      "source": [
        "import torch\n",
        "import torch.nn as nn\n",
        "import numpy \n",
        "import torch.nn.functional as F\n",
        "import matplotlib.pyplot as plt"
      ],
      "execution_count": 0,
      "outputs": []
    },
    {
      "cell_type": "code",
      "metadata": {
        "colab_type": "code",
        "id": "CiVUxudQ7r5_",
        "colab": {}
      },
      "source": [
        "#Neural Network \n",
        "a = 20\n",
        "model = nn.Sequential(\n",
        "    nn.Linear(1, a),\n",
        "    nn.ReLU(),\n",
        "    nn.Linear(a, a),\n",
        "    nn.Linear(a, 1)\n",
        ")"
      ],
      "execution_count": 0,
      "outputs": []
    },
    {
      "cell_type": "code",
      "metadata": {
        "colab_type": "code",
        "id": "E4rnJCtA7r6G",
        "colab": {}
      },
      "source": [
        "#optimizer\n",
        "learning_rate = 0.001\n",
        "optimizer = torch.optim.SGD(model.parameters(), lr=learning_rate) "
      ],
      "execution_count": 0,
      "outputs": []
    },
    {
      "cell_type": "code",
      "metadata": {
        "id": "qPBeeko7UoUf",
        "colab_type": "code",
        "colab": {}
      },
      "source": [
        "#CRR function\n",
        "def CRRAmericanOption(porc, n, T, S, K, r, sigma, q, tree):\n",
        "  #type 'call' or 'put'\n",
        "  # Variables and Initialization\n",
        "  # n = Steps/height of bionomial tree\n",
        "  # T = Time until maturity\n",
        "  # S = Base price\n",
        "  # K = Strike price\n",
        "  # r = Interest\n",
        "  # q = Dividend\n",
        "  # sigma = volatility\n",
        "  # tree = show option tree if True doesn't show if False\n",
        "  \n",
        "  dt = T/n #delta t for each step\n",
        "  u = numpy.exp(sigma*numpy.sqrt(dt)) # Price multiplier if it goes up\n",
        "  d = 1/u                             # Price multiplier if it does down\n",
        "  p = (numpy.exp((r-q)*dt)-d)/(u-d)       # Formula for calculating probability for each price \n",
        "  \n",
        "  # Binomial tree\n",
        "  # Constructing the tree\n",
        "  binomial_tree = numpy.zeros([n+1, n+1])\n",
        "  \n",
        "  # Initializing the tree\n",
        "  for i in range(n+1):\n",
        "      for j in range(i+1):\n",
        "        binomial_tree[j, i] = S*(d**j)*u**(i-j)\n",
        "\n",
        "\n",
        "  # Exercise tree\n",
        "  # Constructing the tree\n",
        "  exercise_tree = numpy.zeros([n+1, n+1])\n",
        "  \n",
        "  # Initializing the tree\n",
        "  for i in range(n+1):\n",
        "      for j in range(i+1):\n",
        "        exercise_tree[j, i] = K\n",
        "  \n",
        "  # Options\n",
        "  # Option value\n",
        "  option = numpy.zeros([n+1, n+1])\n",
        "  # From wiki page call option value is Max [ (Sn − K), 0 ]\n",
        "  if porc is 'call': \n",
        "    option[:, n] = numpy.maximum(numpy.zeros(n+1), binomial_tree[:, n]-exercise_tree[:, n]) \n",
        "  \n",
        "  if porc is 'put':\n",
        "    option[:, n] = numpy.maximum(numpy.zeros(n+1), exercise_tree[:, n]-binomial_tree[:, n]) \n",
        "\n",
        "  # Calculatig the price at t = 0\n",
        "  for i in numpy.arange(n-1, -1, -1):\n",
        "     for j in numpy.arange(0, i+1):\n",
        "        option[j, i] = numpy.exp(-r*dt)*(p*option[j, i+1]+(1-p)*option[j+1, i+1])\n",
        "\n",
        "  if porc is 'call':   \n",
        "    option[:, n] = numpy.maximum(option[:, n], binomial_tree[:, n]-exercise_tree[:, n]) \n",
        "\n",
        "  if porc is 'put':\n",
        "    option[:, n] = numpy.maximum(option[:, n], exercise_tree[:, n]-binomial_tree[:, n]) \n",
        "\n",
        "        \n",
        "  # Return value\n",
        "  #if tree: \n",
        "  #  print(numpy.matrix(option))\n",
        "  #  return option[0, 0]  \n",
        "  # else: \n",
        "  return option[0, 0]"
      ],
      "execution_count": 0,
      "outputs": []
    },
    {
      "cell_type": "code",
      "metadata": {
        "colab_type": "code",
        "id": "7TqjOaLs7r6C",
        "colab": {}
      },
      "source": [
        "#loss function \n",
        "criterion = nn.MSELoss()"
      ],
      "execution_count": 0,
      "outputs": []
    },
    {
      "cell_type": "code",
      "metadata": {
        "colab_type": "code",
        "id": "SbutUBbo7r6K",
        "colab": {
          "base_uri": "https://localhost:8080/",
          "height": 34
        },
        "outputId": "b2b75d2f-62d4-46dd-f89e-c98d23dd2541"
      },
      "source": [
        "#training data\n",
        "\n",
        "batch_size = 1\n",
        "\n",
        "x_train = torch.randn(batch_size, 1)\n",
        "\n",
        "for i in range(batch_size):\n",
        "  print('stop')\n",
        "\n",
        "y = CRRAmericanOption('call', 10, 100, 200, x_train, 0.05, 0.11, 0.1, False)\n",
        "a = numpy.array([y])\n",
        "y_train = torch.from_numpy(a)"
      ],
      "execution_count": 19,
      "outputs": [
        {
          "output_type": "stream",
          "text": [
            "stop\n"
          ],
          "name": "stdout"
        }
      ]
    },
    {
      "cell_type": "code",
      "metadata": {
        "id": "B4YUamsHueio",
        "colab_type": "code",
        "outputId": "0fb382ee-25ce-4c00-8079-200d4b090da5",
        "colab": {
          "base_uri": "https://localhost:8080/",
          "height": 34
        }
      },
      "source": [
        "x_train"
      ],
      "execution_count": 20,
      "outputs": [
        {
          "output_type": "execute_result",
          "data": {
            "text/plain": [
              "tensor([[-0.6543]])"
            ]
          },
          "metadata": {
            "tags": []
          },
          "execution_count": 20
        }
      ]
    },
    {
      "cell_type": "code",
      "metadata": {
        "id": "xyg7Sa5YIN1E",
        "colab_type": "code",
        "colab": {
          "base_uri": "https://localhost:8080/",
          "height": 34
        },
        "outputId": "34fec021-57d3-4c1d-b14d-6a34163945b5"
      },
      "source": [
        "y_train"
      ],
      "execution_count": 21,
      "outputs": [
        {
          "output_type": "execute_result",
          "data": {
            "text/plain": [
              "tensor([0.0135], dtype=torch.float64)"
            ]
          },
          "metadata": {
            "tags": []
          },
          "execution_count": 21
        }
      ]
    },
    {
      "cell_type": "code",
      "metadata": {
        "colab_type": "code",
        "id": "4hNIFisK7r6M",
        "outputId": "4722c469-6ff7-4903-cbab-68a3f26b053c",
        "colab": {
          "base_uri": "https://localhost:8080/",
          "height": 238
        }
      },
      "source": [
        "# Train the model\n",
        "\n",
        "num_epochs = 10\n",
        "\n",
        "for epoch in range(num_epochs):\n",
        "   \n",
        "    # Forward pass\n",
        "    outputs = model(x_train)\n",
        "    loss = criterion(outputs, y_train.float())\n",
        "    \n",
        "    # Backward and optimize\n",
        "    optimizer.zero_grad()\n",
        "    loss.backward()\n",
        "    optimizer.step()\n",
        "    \n",
        "    if (epoch+1) % 1 == 0:\n",
        "        print ('Epoch [{}/{}], Loss: {:.4f}'.format(epoch+1, \n",
        "                                                    num_epochs, loss.item()))"
      ],
      "execution_count": 22,
      "outputs": [
        {
          "output_type": "stream",
          "text": [
            "Epoch [1/10], Loss: 0.0046\n",
            "Epoch [2/10], Loss: 0.0045\n",
            "Epoch [3/10], Loss: 0.0044\n",
            "Epoch [4/10], Loss: 0.0043\n",
            "Epoch [5/10], Loss: 0.0041\n",
            "Epoch [6/10], Loss: 0.0040\n",
            "Epoch [7/10], Loss: 0.0039\n",
            "Epoch [8/10], Loss: 0.0038\n",
            "Epoch [9/10], Loss: 0.0037\n",
            "Epoch [10/10], Loss: 0.0036\n"
          ],
          "name": "stdout"
        },
        {
          "output_type": "stream",
          "text": [
            "/usr/local/lib/python3.6/dist-packages/torch/nn/modules/loss.py:431: UserWarning: Using a target size (torch.Size([1])) that is different to the input size (torch.Size([1, 1])). This will likely lead to incorrect results due to broadcasting. Please ensure they have the same size.\n",
            "  return F.mse_loss(input, target, reduction=self.reduction)\n"
          ],
          "name": "stderr"
        }
      ]
    }
  ]
}