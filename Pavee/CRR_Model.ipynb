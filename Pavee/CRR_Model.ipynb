{
  "nbformat": 4,
  "nbformat_minor": 0,
  "metadata": {
    "colab": {
      "name": "CRR Model.ipynb",
      "provenance": [],
      "collapsed_sections": [],
      "include_colab_link": true
    },
    "kernelspec": {
      "name": "python3",
      "display_name": "Python 3"
    }
  },
  "cells": [
    {
      "cell_type": "markdown",
      "metadata": {
        "id": "view-in-github",
        "colab_type": "text"
      },
      "source": [
        "<a href=\"https://colab.research.google.com/github/pphongsopa/MQP2019/blob/master/Pavee/CRR_Model.ipynb\" target=\"_parent\"><img src=\"https://colab.research.google.com/assets/colab-badge.svg\" alt=\"Open In Colab\"/></a>"
      ]
    },
    {
      "cell_type": "markdown",
      "metadata": {
        "id": "V_XeGvPg7qZW",
        "colab_type": "text"
      },
      "source": [
        ""
      ]
    },
    {
      "cell_type": "code",
      "metadata": {
        "id": "h8MpsxM5aOk8",
        "colab_type": "code",
        "colab": {}
      },
      "source": [
        "# Reference: https://en.wikipedia.org/wiki/Binomial_options_pricing_model"
      ],
      "execution_count": 0,
      "outputs": []
    },
    {
      "cell_type": "code",
      "metadata": {
        "id": "escKebjOUwfK",
        "colab_type": "code",
        "colab": {}
      },
      "source": [
        "# our code in python\n",
        "import numpy \n",
        "import time"
      ],
      "execution_count": 0,
      "outputs": []
    },
    {
      "cell_type": "code",
      "metadata": {
        "id": "HeNYZAbXTXgS",
        "colab_type": "code",
        "colab": {}
      },
      "source": [
        "def CRRAmericanOption(type, n, T, S, K, r, sigma, q, tree):\n",
        "  #type 'call' or 'put'\n",
        "  # Variables and Initialization\n",
        "  # n = Steps/height of bionomial tree\n",
        "  # T = Time until maturity\n",
        "  # S = Base price\n",
        "  # K = Strike price\n",
        "  # r = Interest\n",
        "  # q = Dividend\n",
        "  # sigma = volatility\n",
        "  # tree = show option tree if True doesn't show if False\n",
        "  \n",
        "  dt = T/n #delta t for each step\n",
        "  u = numpy.exp(sigma*numpy.sqrt(dt)) # Price multiplier if it goes up\n",
        "  d = 1/u                             # Price multiplier if it does down\n",
        "  p = (numpy.exp((r-q)*dt)-d)/(u-d)       # Formula for calculating probability for each price \n",
        "  \n",
        "  # Binomial tree\n",
        "  # Constructing the tree\n",
        "  binomial_tree = numpy.zeros([n+1, n+1])\n",
        "  \n",
        "  # Initializing the tree\n",
        "  for i in range(n+1):\n",
        "      for j in range(i+1):\n",
        "        binomial_tree[j, i] = S*(d**j)*u**(i-j)\n",
        "\n",
        "\n",
        "  # Exercise tree\n",
        "  # Constructing the tree\n",
        "  exercise_tree = numpy.zeros([n+1, n+1])\n",
        "  \n",
        "  # Initializing the tree\n",
        "  for i in range(n+1):\n",
        "      for j in range(i+1):\n",
        "        exercise_tree[j, i] = K\n",
        "  \n",
        "  # Options\n",
        "  # Option value\n",
        "  option = numpy.zeros([n+1, n+1])\n",
        "  # From wiki page call option value is Max [ (Sn − K), 0 ]\n",
        "  if type is 'call': \n",
        "    option[:, n] = numpy.maximum(numpy.zeros(n+1), binomial_tree[:, n]-exercise_tree[:, n]) \n",
        "  \n",
        "  if type is 'put':\n",
        "    option[:, n] = numpy.maximum(numpy.zeros(n+1), exercise_tree[:, n]-binomial_tree[:, n]) \n",
        "\n",
        "  # Calculatig the price at t = 0\n",
        "  for i in numpy.arange(n-1, -1, -1):\n",
        "     for j in numpy.arange(0, i+1):\n",
        "        option[j, i] = numpy.exp(-r*dt)*(p*option[j, i+1]+(1-p)*option[j+1, i+1])\n",
        "\n",
        "  if type is 'call':   \n",
        "    option[:, n] = numpy.maximum(option[:, n], binomial_tree[:, n]-exercise_tree[:, n]) \n",
        "\n",
        "  if type is 'put':\n",
        "    option[:, n] = numpy.maximum(option[:, n], exercise_tree[:, n]-binomial_tree[:, n]) \n",
        "\n",
        "        \n",
        "  # Return value\n",
        "  if tree: \n",
        "    print(numpy.matrix(option))\n",
        "    print(\"Option Value: \")\n",
        "    return option[0, 0]  \n",
        "  else: \n",
        "    print(\"Option Value: \")\n",
        "    return option[0, 0]"
      ],
      "execution_count": 0,
      "outputs": []
    },
    {
      "cell_type": "code",
      "metadata": {
        "id": "cmhTBJin5Uzm",
        "colab_type": "code",
        "colab": {}
      },
      "source": [
        "def CallOptionOriginal(type, n, T, S, K, r, sigma):\n",
        "  #type american or european\n",
        "  # Variables and Initialization\n",
        "  # n = steps/height of bionomial tree\n",
        "  # T = time until maturity\n",
        "  # S = Base price\n",
        "  # K = Strike price\n",
        "  # r = interest\n",
        "  # sigma = volatility\n",
        "  dt = T/n #delta t for each step\n",
        "  u = numpy.exp(sigma*numpy.sqrt(dt)) # Price multiplier if it goes up\n",
        "  d = 1/u                             # Price multiplier if it does down\n",
        "  p = (numpy.exp(r*dt)-d)/(u-d)       # Formula for calculating probability for each price \n",
        "  \n",
        "  # Binomial tree\n",
        "  # Constructing the tree\n",
        "  binomial_tree = numpy.zeros([n+1, n+1])\n",
        "  \n",
        "  # Initializing the tree\n",
        "  for i in range(n+1):\n",
        "      for j in range(i+1):\n",
        "        binomial_tree[j, i] = S*(d**j)*u**(i-j)\n",
        "  \n",
        "  # Options\n",
        "  # Option value\n",
        "  option = numpy.zeros([n+1, n+1])\n",
        "  # From wiki page call option value is Max [ (Sn − K), 0 ]\n",
        "  option[:, n] = numpy.maximum(numpy.zeros(n+1), binomial_tree[:, n]-K) \n",
        "  \n",
        "  # Calculatig the price at t = 0\n",
        "  for i in numpy.arange(n-1, -1, -1):\n",
        "     for j in numpy.arange(0, i+1):\n",
        "        option[j, i] = numpy.exp(-r*dt)*(p*option[j, i+1]+(1-p)*option[j+1, i+1])\n",
        "        \n",
        "  # Return value\n",
        "  return option[0, 0]"
      ],
      "execution_count": 0,
      "outputs": []
    },
    {
      "cell_type": "code",
      "metadata": {
        "id": "IdGoS0F2T8sG",
        "colab_type": "code",
        "outputId": "60d9452c-0c52-46ec-ca7b-5e3e4e9b6bde",
        "colab": {
          "base_uri": "https://localhost:8080/",
          "height": 605
        }
      },
      "source": [
        "CRRAmericanOption(type = 'call', n = 10, T = 100, S = 10, K = 15, r = 1.05, sigma = 10, q = 0, tree = True)"
      ],
      "execution_count": 0,
      "outputs": [
        {
          "output_type": "stream",
          "text": [
            "[[1.00000000e+001 5.41498653e+014 2.93220791e+028 1.58778663e+042\n",
            "  8.59784323e+055 4.65572053e+069 2.52106639e+083 1.36515406e+097\n",
            "  7.39229083e+110 4.00291553e+124 2.16757336e+138]\n",
            " [0.00000000e+000 1.84672666e-013 1.00000000e+001 5.41498653e+014\n",
            "  2.93220791e+028 1.58778663e+042 8.59784323e+055 4.65572053e+069\n",
            "  2.52106639e+083 1.36515406e+097 7.39229083e+110]\n",
            " [0.00000000e+000 0.00000000e+000 3.41039937e-027 1.84672666e-013\n",
            "  1.00000000e+001 5.41498653e+014 2.93220791e+028 1.58778663e+042\n",
            "  8.59784323e+055 4.65572053e+069 2.52106639e+083]\n",
            " [0.00000000e+000 0.00000000e+000 0.00000000e+000 6.29807544e-041\n",
            "  3.41039937e-027 1.84672666e-013 1.00000000e+001 5.41498653e+014\n",
            "  2.93220791e+028 1.58778663e+042 8.59784323e+055]\n",
            " [0.00000000e+000 0.00000000e+000 0.00000000e+000 0.00000000e+000\n",
            "  1.16308238e-054 6.29807544e-041 3.41039937e-027 1.84672666e-013\n",
            "  1.00000000e+001 5.41498653e+014 2.93220791e+028]\n",
            " [0.00000000e+000 0.00000000e+000 0.00000000e+000 0.00000000e+000\n",
            "  0.00000000e+000 0.00000000e+000 0.00000000e+000 0.00000000e+000\n",
            "  0.00000000e+000 0.00000000e+000 0.00000000e+000]\n",
            " [0.00000000e+000 0.00000000e+000 0.00000000e+000 0.00000000e+000\n",
            "  0.00000000e+000 0.00000000e+000 0.00000000e+000 0.00000000e+000\n",
            "  0.00000000e+000 0.00000000e+000 0.00000000e+000]\n",
            " [0.00000000e+000 0.00000000e+000 0.00000000e+000 0.00000000e+000\n",
            "  0.00000000e+000 0.00000000e+000 0.00000000e+000 0.00000000e+000\n",
            "  0.00000000e+000 0.00000000e+000 0.00000000e+000]\n",
            " [0.00000000e+000 0.00000000e+000 0.00000000e+000 0.00000000e+000\n",
            "  0.00000000e+000 0.00000000e+000 0.00000000e+000 0.00000000e+000\n",
            "  0.00000000e+000 0.00000000e+000 0.00000000e+000]\n",
            " [0.00000000e+000 0.00000000e+000 0.00000000e+000 0.00000000e+000\n",
            "  0.00000000e+000 0.00000000e+000 0.00000000e+000 0.00000000e+000\n",
            "  0.00000000e+000 0.00000000e+000 0.00000000e+000]\n",
            " [0.00000000e+000 0.00000000e+000 0.00000000e+000 0.00000000e+000\n",
            "  0.00000000e+000 0.00000000e+000 0.00000000e+000 0.00000000e+000\n",
            "  0.00000000e+000 0.00000000e+000 0.00000000e+000]]\n",
            "Option Value: \n"
          ],
          "name": "stdout"
        },
        {
          "output_type": "execute_result",
          "data": {
            "text/plain": [
              "9.999999999999998"
            ]
          },
          "metadata": {
            "tags": []
          },
          "execution_count": 11
        }
      ]
    },
    {
      "cell_type": "code",
      "metadata": {
        "id": "AhBPfvbeazBT",
        "colab_type": "code",
        "colab": {}
      },
      "source": [
        "CallOptionOriginal(type, 10, 100, 10, 15, 1.05, 20)"
      ],
      "execution_count": 0,
      "outputs": []
    }
  ]
}