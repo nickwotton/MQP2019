{
  "nbformat": 4,
  "nbformat_minor": 0,
  "metadata": {
    "colab": {
      "name": "CRR Model.ipynb",
      "provenance": [],
      "collapsed_sections": [],
      "include_colab_link": true
    },
    "kernelspec": {
      "name": "python3",
      "display_name": "Python 3"
    }
  },
  "cells": [
    {
      "cell_type": "markdown",
      "metadata": {
        "id": "view-in-github",
        "colab_type": "text"
      },
      "source": [
        "<a href=\"https://colab.research.google.com/github/pphongsopa/MQP2019/blob/master/Pavee/CRR_Model.ipynb\" target=\"_parent\"><img src=\"https://colab.research.google.com/assets/colab-badge.svg\" alt=\"Open In Colab\"/></a>"
      ]
    },
    {
      "cell_type": "code",
      "metadata": {
        "id": "HeNYZAbXTXgS",
        "colab_type": "code",
        "colab": {}
      },
      "source": [
        "#sample code from wiki page\n",
        "\n",
        "#function americanPut(T, S, K, r, sigma, q, n) \n",
        "#{ \n",
        "#  '  T... expiration time\n",
        "#  '  S... stock price\n",
        "#  '  K... strike price\n",
        "#  '  q... dividend yield\n",
        "#  '  n... height of the binomial tree\n",
        "#  deltaT := T / n;\n",
        "#  up := exp(sigma * sqrt(deltaT));\n",
        "#  p0 := (up*exp(-q * deltaT) - exp(-r * deltaT)) / (up^2 - 1);\n",
        "#  p1 := exp(-r * deltaT) - p0;\n",
        "#  ' initial values at time T\n",
        "#  for i := 0 to n {\n",
        "#      p[i] := K - S * up^(2*i - n);\n",
        "#      if p[i] < 0 then p[i] := 0;\n",
        "#  }\n",
        "#  ' move to earlier times\n",
        "#  for j := n-1 down to 0 {\n",
        "#      for i := 0 to j {\n",
        "#          ' binomial value\n",
        "#          p[i] := p0 * p[i+1] + p1 * p[i];   \n",
        "#          ' exercise value\n",
        "#          exercise := K - S * up^(2*i - j);  \n",
        "#          if p[i] < exercise then p[i] := exercise;\n",
        "#      }\n",
        "#  }\n",
        "#  return americanPut := p[0];\n",
        "#}\n",
        "\n",
        "\n",
        "# our code in python\n",
        "import numpy \n",
        "import time\n",
        "\n",
        "def americanPut(n, T, S, K, r, sigma):\n",
        "  # init \n",
        "  dt = T/n\n",
        "  u = numpy.exp(sigma*numpy.sqrt(dt))\n",
        "  d = 1/u\n",
        "  p = (numpy.exp(r*dt)-d)/(u-d)\n",
        "  \n",
        "  # binomial tree\n",
        "  binomial_tree = numpy.zeros([n+1, n+1])\n",
        "  \n",
        "  for i in range(n+1):\n",
        "      for j in range(i+1):\n",
        "        binomial_tree[j, i] = S*(d**j)*u**(i-j)\n",
        "  \n",
        "  # option value\n",
        "  option = numpy.zeros([n+1, n+1])\n",
        "  option[:, n] = numpy.maximum(numpy.zeros(n+1), binomial_tree[:, n]-K)\n",
        "  \n",
        "  # calculatig the price at t = 0\n",
        "  for i in numpy.arange(n-1, -1, -1):\n",
        "     for j in numpy.arange(0, i+1):\n",
        "        option[j, i] = numpy.exp(-r*dt)*(p*option[j, i+1]+(1-p)*option[j+1, i+1])\n",
        "        \n",
        "  # return value\n",
        "  return option[0, 0]\n",
        "\n",
        "  "
      ],
      "execution_count": 0,
      "outputs": []
    },
    {
      "cell_type": "code",
      "metadata": {
        "id": "v_K4H7WQ9vyl",
        "colab_type": "code",
        "colab": {
          "base_uri": "https://localhost:8080/",
          "height": 34
        },
        "outputId": "e8d5844e-0d72-4ff6-b8a3-d6d97cd27836"
      },
      "source": [
        "americanPut(3, 1, 100, 100, 0.05, 0.1)"
      ],
      "execution_count": 12,
      "outputs": [
        {
          "output_type": "execute_result",
          "data": {
            "text/plain": [
              "7.012185397063804"
            ]
          },
          "metadata": {
            "tags": []
          },
          "execution_count": 12
        }
      ]
    }
  ]
}