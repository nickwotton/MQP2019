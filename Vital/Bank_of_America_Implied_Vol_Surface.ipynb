{
  "nbformat": 4,
  "nbformat_minor": 0,
  "metadata": {
    "colab": {
      "name": "Copy of Copy of Restructure w/ Implied Vol Surface.ipynb",
      "provenance": [],
      "collapsed_sections": [],
      "include_colab_link": true
    },
    "kernelspec": {
      "display_name": "Python 3",
      "language": "python",
      "name": "python3"
    },
    "language_info": {
      "codemirror_mode": {
        "name": "ipython",
        "version": 3
      },
      "file_extension": ".py",
      "mimetype": "text/x-python",
      "name": "python",
      "nbconvert_exporter": "python",
      "pygments_lexer": "ipython3",
      "version": "3.7.4"
    }
  },
  "cells": [
    {
      "cell_type": "markdown",
      "metadata": {
        "id": "view-in-github",
        "colab_type": "text"
      },
      "source": [
        "<a href=\"https://colab.research.google.com/github/vitaltavares/MQP2019/blob/master/Vital/Bank_of_America_Implied_Vol_Surface.ipynb\" target=\"_parent\"><img src=\"https://colab.research.google.com/assets/colab-badge.svg\" alt=\"Open In Colab\"/></a>"
      ]
    },
    {
      "cell_type": "markdown",
      "metadata": {
        "colab_type": "text",
        "id": "89t4J6Dmd-Eo"
      },
      "source": [
        "# BSM formula\n",
        "\n",
        "## Abstract\n",
        "\n",
        "- create GBM class\n",
        "- define a method for BSM formula for a given option type"
      ]
    },
    {
      "cell_type": "markdown",
      "metadata": {
        "colab_type": "text",
        "id": "y5hyO8FseuLn"
      },
      "source": [
        "## Analysis\n",
        "\n",
        "BS model assumes the distribution of stock as lognormal. In particular, it writes \n",
        "$$\\ln \\frac{S(T)}{S(0)} \\sim \\mathcal N((r  - \\frac 1 2 \\sigma^2) T, \\sigma^2 T)$$\n",
        "with respect to risk neutral measure. In the above, the parameters stand for\n",
        "\n",
        "* $S(0)$: The initial stock price\n",
        "* $S(T)$: The stock price at $T$\n",
        "* $r$: interest rate\n",
        "* $\\sigma$: volatility\n",
        "\n"
      ]
    },
    {
      "cell_type": "markdown",
      "metadata": {
        "colab_type": "text",
        "id": "4BEWnmSve9oM"
      },
      "source": [
        "\n",
        "The call and put price with t $T$ and $K$ will be known as $C_0$ and $P_0$ given as below:\n",
        "$$C_0 = \\mathbb E [e^{-rT} (S(T) - K)^+] = S_0  \\Phi(d_1) - K e^{-rT} \\Phi(d_2),$$\n",
        "and \n",
        "$$P_0 = \\mathbb E [e^{-rT} (S(T) - K)^-] = K e^{-rT} \\Phi(- d_2) - S_0  \\Phi(- d_1),$$\n",
        "where $d_i$ are given as\n",
        "$$d_1 = \\frac{1}{\\sigma\\sqrt{\\left( T - t \\right)}}\n",
        "        \\left[\n",
        "          \\ln\\frac{S_{0}}{K}\n",
        "          +\n",
        "          \\left(\n",
        "            r + \\frac{\\sigma^2}{2}\n",
        "          \\right)\n",
        "          \\left(\n",
        "            T-t\n",
        "          \\right)\n",
        "        \\right],$$\n",
        "and\n",
        "$$d_2 = \\frac{1}{\\sigma\\sqrt{\\left( T - t \\right)}}\n",
        "        \\left[\n",
        "          \\ln\\frac{S_{0}}{K}\n",
        "          +\n",
        "          \\left(\n",
        "            r - \\frac{\\sigma^2}{2}\n",
        "          \\right)\n",
        "          \\left(\n",
        "            T-t\n",
        "          \\right)\n",
        "        \\right] = d_{1}-\\sigma\\sqrt{\\left( T - t \\right)}$$\n",
        "\n",
        "From $\\textit{Stochastic Calculus for Finance II Continuous Time Models}$ by Shreve\n",
        "\n",
        "\n",
        "Put-call parity will be useful:\n",
        "    $$C_0 - P_0 =  S(0) - e^{-rT} K.$$\n"
      ]
    },
    {
      "cell_type": "markdown",
      "metadata": {
        "colab_type": "text",
        "id": "mewOxcQJfFnT"
      },
      "source": [
        "## Code"
      ]
    },
    {
      "cell_type": "code",
      "metadata": {
        "colab_type": "code",
        "id": "RXd_brmsfEs9",
        "colab": {}
      },
      "source": [
        "import numpy as np\n",
        "import scipy.stats as ss\n",
        "import matplotlib.pyplot as plt\n",
        "from mpl_toolkits import mplot3d\n",
        "import scipy.optimize as so"
      ],
      "execution_count": 0,
      "outputs": []
    },
    {
      "cell_type": "markdown",
      "metadata": {
        "colab_type": "text",
        "id": "M40EwMCkfS21"
      },
      "source": [
        "We reload the european option class created before."
      ]
    },
    {
      "cell_type": "code",
      "metadata": {
        "colab_type": "code",
        "id": "czvpqtvId_3D",
        "colab": {}
      },
      "source": [
        "\n",
        "class VanillaOption:\n",
        "  \n",
        "  \"\"\"\n",
        "  :param S: underlying\n",
        "  :param K: strike price\n",
        "  :param r: rate\n",
        "  :param t: time to expiration\n",
        "  :param vol: volatility\n",
        "\n",
        "  \"\"\"\n",
        "\n",
        "  def __init__(self,S = 100,K = 100, t= 0.5, r = 0.019, vol = 0.217,otype = 1): \n",
        "    self.otype = otype\n",
        "    self.K = K\n",
        "    self.S = S\n",
        "    self.t = t\n",
        "    self.r = r\n",
        "    self.vol = vol\n",
        "  \n",
        "\n",
        "  \n",
        "  def payoff(self, S): #S: excercise price\n",
        "    otype = self.otype\n",
        "    S = self.strike\n",
        "    K = self.K\n",
        "    t = self.t\n",
        "\n",
        "    return np.max([0, (S - K)*otype])\n",
        "  \n",
        "  def bsm_price(self):\n",
        "    otype = self.otype\n",
        "    S = self.S\n",
        "    K = self.K\n",
        "    t = self.t\n",
        "    vol = self.vol\n",
        "    r = self.r\n",
        "\n",
        "    d1 = 1/(vol * np.sqrt(t))*(np.log(S/K) + (r + np.power(vol,2)/2)*(t)) # Need to be working with t minus current time t\n",
        "    d2 = d1 - (vol * np.sqrt(t)) #  But how do we get the current time t\n",
        "    \n",
        "    return (otype * S * ss.norm.cdf(otype * d1) - otype * K * np.exp(-r * t) * ss.norm.cdf(otype * d2))\n",
        "  \n",
        "  \n",
        "  def delta(self):\n",
        "    otype = self.otype\n",
        "    t = self.t\n",
        "    k = self.K\n",
        "    S = self.S\n",
        "    vol = self.vol\n",
        "    r = self.r\n",
        "    \n",
        "    d1 = 1/(vol*np.sqrt(t))*(np.log(S/k) + (r + np.power(vol,2)/2)*(t))\n",
        "    \n",
        "    if otype == 1:\n",
        "      return ss.norm.cdf(d1)\n",
        "    else:\n",
        "      return ss.norm.cdf(d1) - 1\n",
        "               \n",
        "    \n",
        "  def gamma(self):\n",
        "    otype = self.otype\n",
        "    t = self.t\n",
        "    k = self.K\n",
        "    \n",
        "    S = self.S\n",
        "    vol = self.vol\n",
        "    r = self.r\n",
        "\n",
        "    d1 = 1/(vol*np.sqrt(t))*(np.log(S/k) + (r + np.power(vol,2)/2)*(t))\n",
        "    \n",
        "    return ss.norm.pdf(d1) / (S * vol * np.sqrt(t))\n",
        "  \n",
        "  \n",
        "  def vega(self):\n",
        "    otype = self.otype\n",
        "    t = self.t\n",
        "    k = self.K\n",
        "    \n",
        "    S = self.S\n",
        "    vol = self.vol\n",
        "    r = self.r\n",
        "    \n",
        "    d1 = 1/(vol*np.sqrt(t))*(np.log(S/k) + (r + np.power(vol,2)/2)*(t))\n",
        "    \n",
        "    return ss.norm.pdf(d1) * np.sqrt(t)* S/ 100.0\n",
        "  \n",
        "  \n",
        "  def theta(self):\n",
        "    otype = self.otype\n",
        "    t = self.t\n",
        "    k = self.K\n",
        "    \n",
        "    S = self.S\n",
        "    vol = self.vol\n",
        "    r = self.vol\n",
        "  \n",
        "    \n",
        "    d1 = 1/(vol*np.sqrt(t))*(np.log(S/k) + (r + np.power(vol,2)/2)*(t))\n",
        "    d2 = 1/(vol*np.sqrt(t))*(np.log(S/k) + (r - np.power(vol,2)/2)*(t))\n",
        "    \n",
        "    if otype == 1:\n",
        "      return (-S * ss.norm.pdf(d1) * vol / (2 * np.sqrt(t))) - (r * k * np.exp(-r * t) * ss.norm.cdf(d2))\n",
        "    else:\n",
        "      return (-S * ss.norm.pdf(d1) * vol / (2 * np.sqrt(t))) + (r * k * np.exp(-r * t) * ss.norm.cdf(-d2))\n",
        "    \n",
        "    \n",
        "  def rho(self):\n",
        "    otype = self.otype\n",
        "    t = self.t\n",
        "    k = self.K\n",
        "    \n",
        "    S = self.S\n",
        "    vol = self.vol\n",
        "    r = self.r\n",
        "\n",
        "    \n",
        "    d2 = 1/(vol*np.sqrt(t))*(np.log(S/k) + (r - np.power(vol,2)/2)*(t))\n",
        "    \n",
        "    if otype == 1:\n",
        "      return k * ss.norm.cdf(d2) * t * np.exp(-r * t)\n",
        "    else:\n",
        "      return -k * ss.norm.cdf(-d2) * t * np.exp(-r * t)\n"
      ],
      "execution_count": 0,
      "outputs": []
    },
    {
      "cell_type": "markdown",
      "metadata": {
        "colab_type": "text",
        "id": "rdPRhkW0fhkn"
      },
      "source": [
        "Next, we create the gbm class, which is \n",
        "determined by three parameters. We shall initialize it\n",
        "as it  is created."
      ]
    },
    {
      "cell_type": "markdown",
      "metadata": {
        "colab_type": "text",
        "id": "6qcWtlDCgAO9"
      },
      "source": [
        "BSM formula is given by a method of Gbm class with an input of an option."
      ]
    },
    {
      "cell_type": "code",
      "metadata": {
        "colab_type": "code",
        "id": "iDswnsxjf_h5",
        "outputId": "3e82237d-c9aa-4d9d-d966-ce76f87cf179",
        "colab": {
          "base_uri": "https://localhost:8080/",
          "height": 51
        }
      },
      "source": [
        "'''===============\n",
        "Test bsm_price\n",
        "================='''\n",
        "\n",
        "# At the money option w/ 6 months to expiry\n",
        "option1 = VanillaOption(S= 100, K=100, t = 0.5, vol = 0.4217, r = 0.019)\n",
        "print('>>>>>>>>>>call value is ' + str(option1.bsm_price()))\n",
        "option2 = VanillaOption(S= 100, K=100, t = 0.5, vol = 0.217, r = 0.019, otype=-1)\n",
        "print('>>>>>>>>>>put value is ' + str(option2.bsm_price()))"
      ],
      "execution_count": 4,
      "outputs": [
        {
          "output_type": "stream",
          "text": [
            ">>>>>>>>>>call value is 12.27467386055055\n",
            ">>>>>>>>>>put value is 5.625433925472393\n"
          ],
          "name": "stdout"
        }
      ]
    },
    {
      "cell_type": "code",
      "metadata": {
        "id": "AmjKGoOlrQ1e",
        "colab_type": "code",
        "colab": {}
      },
      "source": [
        "def impliedvolatility(option, marketprice):\n",
        "  def loss(v):\n",
        "    option.vol = v\n",
        "    return (option.bsm_price() - marketprice)**2\n",
        "  return so.fmin(loss, option.vol, disp = 0)[0]"
      ],
      "execution_count": 0,
      "outputs": []
    },
    {
      "cell_type": "code",
      "metadata": {
        "id": "9k5Nk19Krn_1",
        "colab_type": "code",
        "outputId": "f2b45df1-8cce-44bb-9d6d-58c52b882d8b",
        "colab": {
          "base_uri": "https://localhost:8080/",
          "height": 34
        }
      },
      "source": [
        "impliedvolatility(option1, 4.274)"
      ],
      "execution_count": 6,
      "outputs": [
        {
          "output_type": "execute_result",
          "data": {
            "text/plain": [
              "0.13474632812500043"
            ]
          },
          "metadata": {
            "tags": []
          },
          "execution_count": 6
        }
      ]
    },
    {
      "cell_type": "code",
      "metadata": {
        "id": "Y2rotrcxhd-n",
        "colab_type": "code",
        "colab": {}
      },
      "source": [
        "T = np.array([1/12., 7/52., 11/52., 15/52.])\n",
        "K = np.array([24., 29., 33., 35., 37.])"
      ],
      "execution_count": 0,
      "outputs": []
    },
    {
      "cell_type": "code",
      "metadata": {
        "id": "ENF25nt-hr2E",
        "colab_type": "code",
        "colab": {}
      },
      "source": [
        "T, K = np.meshgrid(T, K)\n"
      ],
      "execution_count": 0,
      "outputs": []
    },
    {
      "cell_type": "code",
      "metadata": {
        "id": "nrFAP76mh9LF",
        "colab_type": "code",
        "outputId": "ded5d342-8f13-40f1-f335-ea67d96285b0",
        "colab": {
          "base_uri": "https://localhost:8080/",
          "height": 187
        }
      },
      "source": [
        "print(T)\n",
        "print(K)"
      ],
      "execution_count": 9,
      "outputs": [
        {
          "output_type": "stream",
          "text": [
            "[[0.08333333 0.13461538 0.21153846 0.28846154]\n",
            " [0.08333333 0.13461538 0.21153846 0.28846154]\n",
            " [0.08333333 0.13461538 0.21153846 0.28846154]\n",
            " [0.08333333 0.13461538 0.21153846 0.28846154]\n",
            " [0.08333333 0.13461538 0.21153846 0.28846154]]\n",
            "[[24. 24. 24. 24.]\n",
            " [29. 29. 29. 29.]\n",
            " [33. 33. 33. 33.]\n",
            " [35. 35. 35. 35.]\n",
            " [37. 37. 37. 37.]]\n"
          ],
          "name": "stdout"
        }
      ]
    },
    {
      "cell_type": "code",
      "metadata": {
        "id": "Z51KkPmeiSW5",
        "colab_type": "code",
        "colab": {}
      },
      "source": [
        "market_price = np.array([[9.55, 9.78, 9.73, 9.75], [4.78, 4.90, 4.95, 5.125], [0.64, 1.72, 1.97, 2.215],[0.015, 0.74, 0.97, 1.21],[0.01, 0.25, 0.385, 0.585]])"
      ],
      "execution_count": 0,
      "outputs": []
    },
    {
      "cell_type": "code",
      "metadata": {
        "id": "7aGAWcl-jECI",
        "colab_type": "code",
        "outputId": "d42204c5-456f-4517-fe2c-e7f80c3f4c75",
        "colab": {
          "base_uri": "https://localhost:8080/",
          "height": 102
        }
      },
      "source": [
        "print(market_price)"
      ],
      "execution_count": 20,
      "outputs": [
        {
          "output_type": "stream",
          "text": [
            "[[9.55  9.78  9.73  9.75 ]\n",
            " [4.78  4.9   4.95  5.125]\n",
            " [0.64  1.72  1.97  2.215]\n",
            " [0.015 0.74  0.97  1.21 ]\n",
            " [0.01  0.25  0.385 0.585]]\n"
          ],
          "name": "stdout"
        }
      ]
    },
    {
      "cell_type": "code",
      "metadata": {
        "id": "DsoK8cX9jHZe",
        "colab_type": "code",
        "colab": {}
      },
      "source": [
        "option3 = VanillaOption(S= 33.51, r = .0183, t= 10/12., K=32., vol=.1)\n",
        "#impliedvolatility(option3, marketprice=3.35)"
      ],
      "execution_count": 0,
      "outputs": []
    },
    {
      "cell_type": "code",
      "metadata": {
        "id": "OnkCLRz1kl5b",
        "colab_type": "code",
        "outputId": "99ddc83f-248a-4e99-cd17-f139bf327ebc",
        "colab": {
          "base_uri": "https://localhost:8080/",
          "height": 102
        }
      },
      "source": [
        "vol = np.zeros([5,4])\n",
        "vol"
      ],
      "execution_count": 32,
      "outputs": [
        {
          "output_type": "execute_result",
          "data": {
            "text/plain": [
              "array([[0., 0., 0., 0.],\n",
              "       [0., 0., 0., 0.],\n",
              "       [0., 0., 0., 0.],\n",
              "       [0., 0., 0., 0.],\n",
              "       [0., 0., 0., 0.]])"
            ]
          },
          "metadata": {
            "tags": []
          },
          "execution_count": 32
        }
      ]
    },
    {
      "cell_type": "code",
      "metadata": {
        "id": "H2FSIjBOj8Ci",
        "colab_type": "code",
        "colab": {}
      },
      "source": [
        "for i in range(5):\n",
        "  for j in range(4):\n",
        "    option3.K = K[i,j]\n",
        "    option3.t = T[i,j]\n",
        "    vol[i,j] = impliedvolatility(option3,market_price[i,j])\n"
      ],
      "execution_count": 0,
      "outputs": []
    },
    {
      "cell_type": "code",
      "metadata": {
        "id": "TRWrNqrXk48q",
        "colab_type": "code",
        "outputId": "32cf4064-249b-4e4a-f4fd-29ead0e33949",
        "colab": {
          "base_uri": "https://localhost:8080/",
          "height": 102
        }
      },
      "source": [
        "vol"
      ],
      "execution_count": 35,
      "outputs": [
        {
          "output_type": "execute_result",
          "data": {
            "text/plain": [
              "array([[0.42658946, 0.62955273, 0.45101371, 0.37878105],\n",
              "       [0.42926169, 0.37744847, 0.30600763, 0.29697099],\n",
              "       [0.07141501, 0.2890634 , 0.26806114, 0.26099572],\n",
              "       [0.08506142, 0.26482012, 0.24795853, 0.24442061],\n",
              "       [0.15957397, 0.25253962, 0.23280996, 0.23452937]])"
            ]
          },
          "metadata": {
            "tags": []
          },
          "execution_count": 35
        }
      ]
    },
    {
      "cell_type": "code",
      "metadata": {
        "id": "KWBLT80jk5is",
        "colab_type": "code",
        "outputId": "2f89c9a5-cfe8-4b32-9e4b-92f3f57edb9c",
        "colab": {
          "base_uri": "https://localhost:8080/",
          "height": 34
        }
      },
      "source": [
        "option3.t"
      ],
      "execution_count": 36,
      "outputs": [
        {
          "output_type": "execute_result",
          "data": {
            "text/plain": [
              "0.28846153846153844"
            ]
          },
          "metadata": {
            "tags": []
          },
          "execution_count": 36
        }
      ]
    },
    {
      "cell_type": "code",
      "metadata": {
        "id": "DK5_aUR6lNm-",
        "colab_type": "code",
        "colab": {
          "base_uri": "https://localhost:8080/",
          "height": 248
        },
        "outputId": "f17fce01-ab66-4c1d-d81d-4fdef8fab60e"
      },
      "source": [
        "fig = plt.figure()\n",
        "ax = plt.axes(projection='3d')\n",
        "ax.plot_surface(K, T, vol, rstride=1, cstride=1,\n",
        "                cmap='viridis', edgecolor='none')\n",
        "ax.set_title('Bank of America Implied Volatility');\n",
        "ax.set_xlabel('Strike')\n",
        "ax.set_ylabel('Time')\n",
        "ax.set_zlabel('Imp Vol');"
      ],
      "execution_count": 42,
      "outputs": [
        {
          "output_type": "display_data",
          "data": {
            "image/png": "[encoded data removed]",
            "text/plain": [
              "<Figure size 432x288 with 1 Axes>"
            ]
          },
          "metadata": {
            "tags": []
          }
        }
      ]
    }
  ]
}