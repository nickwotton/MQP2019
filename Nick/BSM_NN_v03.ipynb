{
  "nbformat": 4,
  "nbformat_minor": 0,
  "metadata": {
    "colab": {
      "name": "Copy of BSM_NN_v02.ipynb ",
      "provenance": [],
      "include_colab_link": true
    },
    "kernelspec": {
      "display_name": "Python 3",
      "language": "python",
      "name": "python3"
    },
    "language_info": {
      "codemirror_mode": {
        "name": "ipython",
        "version": 3
      },
      "file_extension": ".py",
      "mimetype": "text/x-python",
      "name": "python",
      "nbconvert_exporter": "python",
      "pygments_lexer": "ipython3",
      "version": "3.7.4"
    }
  },
  "cells": [
    {
      "cell_type": "markdown",
      "metadata": {
        "id": "view-in-github",
        "colab_type": "text"
      },
      "source": [
        "<a href=\"https://colab.research.google.com/github/nickwotton/MQP2019/blob/master/Nick/BSM_NN_v03.ipynb\" target=\"_parent\"><img src=\"https://colab.research.google.com/assets/colab-badge.svg\" alt=\"Open In Colab\"/></a>"
      ]
    },
    {
      "cell_type": "markdown",
      "metadata": {
        "id": "Pu5uIyYP6Tnz",
        "colab_type": "text"
      },
      "source": [
        "# Attempt to Replicate the Black Scholes Model Using a Neural Network\n"
      ]
    },
    {
      "cell_type": "code",
      "metadata": {
        "colab_type": "code",
        "id": "KOvg3FsM7r51",
        "colab": {}
      },
      "source": [
        "import torch\n",
        "import torch.nn as nn\n",
        "import numpy as np\n",
        "import torch.nn.functional as F\n",
        "import matplotlib.pyplot as plt\n",
        "import scipy.stats as ss"
      ],
      "execution_count": 0,
      "outputs": []
    },
    {
      "cell_type": "markdown",
      "metadata": {
        "id": "O4PCo06270zm",
        "colab_type": "text"
      },
      "source": [
        "## Define the Function\n",
        "Here we define our function, the Black Scholes Model (BSM). First, we must initialize the option class, then the Geometric Brownian Motion Class, and finally the BSM class.\n",
        "Then we test the equation with a test value of 2."
      ]
    },
    {
      "cell_type": "code",
      "metadata": {
        "colab_type": "code",
        "id": "wdyGtXXn7r56",
        "colab": {}
      },
      "source": [
        "'''=========\n",
        "option class init\n",
        "=========='''\n",
        "class VanillaOption:\n",
        "    def __init__(\n",
        "        self,\n",
        "        otype = 1, # 1: 'call'\n",
        "                  # -1: 'put'\n",
        "        strike = 110.,\n",
        "        maturity = 1.,\n",
        "        market_price = 10.):\n",
        "      self.otype = otype               # Put or Call\n",
        "      self.strike = strike             # Strike K\n",
        "      self.maturity = maturity         # Maturity T\n",
        "      self.market_price = market_price #this will be used for calibration\n",
        "      \n",
        "        \n",
        "    def payoff(self, s): #s: excercise price\n",
        "      otype = self.otype\n",
        "      k = self.strike\n",
        "      maturity = self.maturity\n",
        "      return np.max([0, (s - k)*otype])\n"
      ],
      "execution_count": 0,
      "outputs": []
    },
    {
      "cell_type": "code",
      "metadata": {
        "id": "3ZT5HETX8jIs",
        "colab_type": "code",
        "colab": {}
      },
      "source": [
        "'''============\n",
        "Gbm class\n",
        "============='''\n",
        "\n",
        "class Gbm:\n",
        "    def __init__(self,\n",
        "                 init_state = 100.,\n",
        "                 drift_ratio = .0475,\n",
        "                 vol_ratio = .2\n",
        "                ):\n",
        "        self.init_state = init_state\n",
        "        self.drift_ratio = drift_ratio\n",
        "        self.vol_ratio = vol_ratio"
      ],
      "execution_count": 0,
      "outputs": []
    },
    {
      "cell_type": "code",
      "metadata": {
        "id": "Dkd7sAZCEYUk",
        "colab_type": "code",
        "colab": {}
      },
      "source": [
        "'''========\n",
        "Black-Scholes-Merton formula. \n",
        "=========='''\n",
        "\n",
        "def bsm_price(self, vanilla_option):\n",
        "    s0 = self.init_state\n",
        "    sigma = self.vol_ratio\n",
        "    r = self.drift_ratio\n",
        "    \n",
        "    otype = vanilla_option.otype\n",
        "    k = vanilla_option.strike\n",
        "    maturity = vanilla_option.maturity\n",
        "    \n",
        "    d1 = 1/(sigma*np.sqrt(maturity))*(np.log(s0/k) + (r + np.power(sigma,2)/2)*(maturity)) \n",
        "    d2 = 1/(sigma*np.sqrt(maturity))*(np.log(s0/k) + (r - np.power(sigma,2)/2)*(maturity)) \n",
        "    return (otype * s0 * ss.norm.cdf(otype * d1) #line break needs parenthesis\n",
        "            - otype * np.exp(-r * maturity) * k * ss.norm.cdf(otype * d2))\n",
        "\n",
        "Gbm.bsm_price = bsm_price"
      ],
      "execution_count": 0,
      "outputs": []
    },
    {
      "cell_type": "code",
      "metadata": {
        "id": "vC1nkSnVIBgi",
        "colab_type": "code",
        "colab": {}
      },
      "source": [
        "'''=======\n",
        "Get BSM prices given an option and a Tensor\n",
        "======='''\n",
        "\n",
        "def prices_bsm(self, vanilla_option, data):\n",
        "  \n",
        "  # Create the list\n",
        "  a = []\n",
        "\n",
        "  # Get tensor size\n",
        "  sizeT = list(data.size())[0]\n",
        "\n",
        "  for i in range(sizeT):\n",
        "    self.init_state = data[i].item()\n",
        "    callPrice = gbm1.bsm_price(vanilla_option)\n",
        "    a.append(callPrice)\n",
        "  \n",
        "  # Convert to array then tensor\n",
        "  arrayOut = np.array(a)\n",
        "  outputData = torch.from_numpy(arrayOut)\n",
        "  return outputData\n",
        "\n",
        "Gbm.prices_bsm = prices_bsm"
      ],
      "execution_count": 0,
      "outputs": []
    },
    {
      "cell_type": "code",
      "metadata": {
        "id": "aoj7ImMqG5WG",
        "colab_type": "code",
        "colab": {}
      },
      "source": [
        "def f(s, k = 10):\n",
        "  gbm = Gbm(init_state=s)\n",
        "  option = VanillaOption(strike=k)\n",
        "  return gbm.bsm_price(option)\n",
        "\n",
        "batch_size = 21\n",
        "x_list = np.linspace(8, 11, batch_size)\n",
        "y_list = np.array([f(x) for x in x_list])\n",
        "#plt.plot(x_list, y_list)"
      ],
      "execution_count": 0,
      "outputs": []
    },
    {
      "cell_type": "markdown",
      "metadata": {
        "id": "7G7JVcog6Ref",
        "colab_type": "text"
      },
      "source": [
        "## Create Model\n",
        "Next, we create the neural network model. This is done first by setting the inner and outer dimensions with variables. Next we code the model and vary the internal dimensions to attempt to improve the model. At this level, this is essentially a simple linear algebra exercise:\n",
        "\n",
        "If we have input $x$, internal parameters $a,b$, and solution $f(x)$ then in the one-dimensional case we have:\n",
        "\n",
        "\\begin{equation}\n",
        "  \\left(\n",
        "    a_{1}x+b_{2}\n",
        "  \\right)\n",
        "  a_{2} + b_{2}\n",
        "  = f(x)\n",
        "\\end{equation}\n",
        "  \n",
        "However, we want to get a better estimate for the true equation. So we increase the interior dimension which corresponds to the number of neurons inside the network. For example, we raised the inner dimension to 3. In matrix form we have:\n",
        "\n",
        "\\begin{equation}\n",
        "\\left(\n",
        "  \\begin{bmatrix} x \\end{bmatrix} \n",
        "  \\begin{bmatrix} a_{1} & a_{2} & a_{3} \\end{bmatrix} \n",
        "  + \n",
        "  \\begin{bmatrix} b_{1} & b_{2} & b_{3} \\end{bmatrix}\n",
        "\\right)\n",
        " \\begin{bmatrix} a_{4} \\\\ a_{5} \\\\ a_{6} \\end{bmatrix}\n",
        " +\n",
        " \\begin{bmatrix} b_{4} \\\\ \\end{bmatrix}\n",
        " =\n",
        " \\begin{bmatrix} f(x) \\end{bmatrix}\n",
        "\\end{equation}\n",
        "\n",
        "Graphically, we can render this second neural network as:\n",
        "![Neural Network Diagram](https://drive.google.com/uc?id=1ItiBpdjPvWHF5ZWy8JDNDKq6dXfyU-IE)\n",
        "\n",
        "**ADD DESCRIPTION**"
      ]
    },
    {
      "cell_type": "code",
      "metadata": {
        "colab_type": "code",
        "id": "CiVUxudQ7r5_",
        "colab": {}
      },
      "source": [
        "#model\n",
        "#nn.Linear\n",
        "H1 = 50; H2 = 11 #number of hidden layer\n",
        "model = nn.Sequential(\n",
        "    nn.Linear(1, H1), \n",
        "    nn.Sigmoid(),\n",
        "    nn.Linear(H1, H2),\n",
        "    nn.Sigmoid(),\n",
        "    nn.Linear(H2,2),\n",
        "    nn.Sigmoid(),\n",
        "    nn.Linear(2,1)\n",
        ")"
      ],
      "execution_count": 0,
      "outputs": []
    },
    {
      "cell_type": "markdown",
      "metadata": {
        "id": "OkuS30xvzTgV",
        "colab_type": "text"
      },
      "source": [
        "Here we define the Loss function as the Mean Squared Error(MSE). \n",
        "\n",
        "Note that by doing so, we are essentially 'cheating' the system. In most applications, we would not know the function $f$ so we would be unable to find the MSE."
      ]
    },
    {
      "cell_type": "code",
      "metadata": {
        "colab_type": "code",
        "id": "7TqjOaLs7r6C",
        "colab": {}
      },
      "source": [
        "#loss function \n",
        "criterion = nn.MSELoss()"
      ],
      "execution_count": 0,
      "outputs": []
    },
    {
      "cell_type": "markdown",
      "metadata": {
        "id": "xIblNHIrzt8f",
        "colab_type": "text"
      },
      "source": [
        "Next we choose a learning rate and a method for learning. The learning rate is the percent of the data that is accepted in each iteration. The Methods we tried were SGD and Adam. "
      ]
    },
    {
      "cell_type": "code",
      "metadata": {
        "colab_type": "code",
        "id": "E4rnJCtA7r6G",
        "colab": {}
      },
      "source": [
        "#optimizer\n",
        "learning_rate = 0.1\n",
        "optimizer = torch.optim.SGD(model.parameters(), lr=learning_rate, momentum=0.7) "
      ],
      "execution_count": 0,
      "outputs": []
    },
    {
      "cell_type": "code",
      "metadata": {
        "id": "x3ez3tCHHSum",
        "colab_type": "code",
        "colab": {}
      },
      "source": [
        "batch_size = np.size(x_list)\n",
        "x_train0 = torch.from_numpy(x_list).reshape(batch_size,1).float()\n",
        "y_train0 = torch.from_numpy(y_list).reshape(batch_size,1).float()"
      ],
      "execution_count": 0,
      "outputs": []
    },
    {
      "cell_type": "markdown",
      "metadata": {
        "id": "W-FHbIND2A34",
        "colab_type": "text"
      },
      "source": [
        "## Train the Model\n",
        "\n",
        "First we create the training data. This is a batch of random points that we pass through the BSM."
      ]
    },
    {
      "cell_type": "code",
      "metadata": {
        "colab_type": "code",
        "id": "SbutUBbo7r6K",
        "colab": {}
      },
      "source": [
        "# Create Training Data\n",
        "\n",
        "#batch_size = 1000\n",
        "\n",
        "# Create a list\n",
        "#a = []\n",
        "\n",
        "# Generate randomized data\n",
        "#x_train = torch.randn(batch_size, 1)\n",
        "# Modify the random data to be a stock price\n",
        "#x_train0 = np.abs(x_train*100)\n",
        "\n",
        "# Create static training data for conistency\n",
        "#x_train = torch.tensor([[100], [105], [110], [115], [120]])\n",
        "\n",
        "# Initialize GBM\n",
        "#gbm1 = Gbm()\n",
        "#option = VanillaOption()\n",
        "\n",
        "# Call the prices_bsm to get y_train\n",
        "#y_train0 = gbm1.prices_bsm(option, x_train)\n",
        "\n",
        "#print(x_train[1:10])\n",
        "#print(y_train[1:10])\n"
      ],
      "execution_count": 0,
      "outputs": []
    },
    {
      "cell_type": "markdown",
      "metadata": {
        "id": "W9VZMG4e2ziF",
        "colab_type": "text"
      },
      "source": [
        "Once we have the training data, we pass this collection of inputs and solutions into the model. With each iteration we calculate the loss and attempt to optimize the model to further reduce the loss.\n"
      ]
    },
    {
      "cell_type": "code",
      "metadata": {
        "id": "EPsSIArQEgHR",
        "colab_type": "code",
        "colab": {}
      },
      "source": [
        "# Normalization\n",
        "\n",
        "def linear_transform(xx, l = 0, u= 1):\n",
        "  M = torch.max(xx)\n",
        "  m = torch.min(xx)\n",
        "  return (u-l)/(M-m)*(xx-m)+l, m, M, l, u\n",
        "x_train, x_m, x_M, x_l, x_u = linear_transform(x_train0, -1, 1)\n",
        "y_train, y_m, y_M, y_l, y_u = linear_transform(y_train0, 0, 1)"
      ],
      "execution_count": 0,
      "outputs": []
    },
    {
      "cell_type": "code",
      "metadata": {
        "colab_type": "code",
        "id": "4hNIFisK7r6M",
        "outputId": "693a12fc-b378-454d-ec83-aaa112e841aa",
        "colab": {
          "base_uri": "https://localhost:8080/",
          "height": 370
        }
      },
      "source": [
        "# Train the model\n",
        "\n",
        "num_epochs = 1000\n",
        "\n",
        "for epoch in range(num_epochs):\n",
        "\n",
        "    # Forward pass\n",
        "    outputs = model(x_train.float())\n",
        "    loss = criterion(outputs, y_train.float())\n",
        "    \n",
        "    # Backward and optimize\n",
        "    optimizer.zero_grad()\n",
        "    loss.backward()\n",
        "    optimizer.step()\n",
        "    \n",
        "    if epoch == 0 or (epoch+1) % 50 == 0:\n",
        "        print ('Epoch [{}/{}], Loss: {:.4f}'.format(epoch+1, \n",
        "                                                    num_epochs, loss.item()))\n",
        "        #print(outputs[1:10])\n",
        "       \n",
        "      \n"
      ],
      "execution_count": 12,
      "outputs": [
        {
          "output_type": "stream",
          "text": [
            "Epoch [1/1000], Loss: 0.6988\n",
            "Epoch [50/1000], Loss: 0.0928\n",
            "Epoch [100/1000], Loss: 0.0900\n",
            "Epoch [150/1000], Loss: 0.0841\n",
            "Epoch [200/1000], Loss: 0.0695\n",
            "Epoch [250/1000], Loss: 0.0363\n",
            "Epoch [300/1000], Loss: 0.0059\n",
            "Epoch [350/1000], Loss: 0.0012\n",
            "Epoch [400/1000], Loss: 0.0007\n",
            "Epoch [450/1000], Loss: 0.0005\n",
            "Epoch [500/1000], Loss: 0.0003\n",
            "Epoch [550/1000], Loss: 0.0002\n",
            "Epoch [600/1000], Loss: 0.0002\n",
            "Epoch [650/1000], Loss: 0.0001\n",
            "Epoch [700/1000], Loss: 0.0001\n",
            "Epoch [750/1000], Loss: 0.0001\n",
            "Epoch [800/1000], Loss: 0.0001\n",
            "Epoch [850/1000], Loss: 0.0001\n",
            "Epoch [900/1000], Loss: 0.0001\n",
            "Epoch [950/1000], Loss: 0.0001\n",
            "Epoch [1000/1000], Loss: 0.0001\n"
          ],
          "name": "stdout"
        }
      ]
    },
    {
      "cell_type": "markdown",
      "metadata": {
        "id": "e7-wQ_nA3eRF",
        "colab_type": "text"
      },
      "source": [
        "## Testing the Model\n"
      ]
    },
    {
      "cell_type": "code",
      "metadata": {
        "id": "JO-I6S5oFvzC",
        "colab_type": "code",
        "colab": {}
      },
      "source": [
        "def learnedfun(x):\n",
        "  out = (1-(-1))/(x_M-x_m)*(x-x_m)+(-1.)\n",
        "  out = model(out)\n",
        "  out = (y_M- y_m)*out+y_m\n",
        "  return out\n",
        "\n",
        "y_pred = learnedfun(x_train0)"
      ],
      "execution_count": 0,
      "outputs": []
    },
    {
      "cell_type": "code",
      "metadata": {
        "id": "trvbzo52HoLF",
        "colab_type": "code",
        "outputId": "d7a2e2d7-92eb-4827-a17c-fa09488be2fc",
        "colab": {
          "base_uri": "https://localhost:8080/",
          "height": 265
        }
      },
      "source": [
        "# Test with training data\n",
        "plt.scatter(x_train0.detach().numpy(), y_train0.detach().numpy(), label='true')\n",
        "plt.plot(x_train0.detach().numpy(), y_pred.detach().numpy(), label='pred')\n",
        "\n",
        "plt.legend()\n",
        "plt.show()"
      ],
      "execution_count": 14,
      "outputs": [
        {
          "output_type": "display_data",
          "data": {
            "image/png": "[encoded data removed]",
            "text/plain": [
              "<Figure size 432x288 with 1 Axes>"
            ]
          },
          "metadata": {
            "tags": []
          }
        }
      ]
    },
    {
      "cell_type": "code",
      "metadata": {
        "colab_type": "code",
        "id": "qZjRYQGe7r6P",
        "outputId": "7c5fd872-3475-417f-a046-9bf36d2c6287",
        "colab": {
          "base_uri": "https://localhost:8080/",
          "height": 282
        }
      },
      "source": [
        "# Test the Model with Random data\n",
        "\n",
        "# Generate random data\n",
        "x_0 = np.random.randint(90, 120, batch_size)\n",
        "\n",
        "# Get BSM Prices as determined by the formula\n",
        "y_0 = np.array([f(x, 105) for x in x_0])\n",
        "\n",
        "# Transform to tensor\n",
        "x_0 = torch.from_numpy(x_0).reshape(batch_size,1).float()\n",
        "y_0 = torch.from_numpy(y_0).reshape(batch_size,1).float()\n",
        "\n",
        "# Normalize\n",
        "x_, x_m, x_M, x_l, x_u = linear_transform(x_0)\n",
        "y_, y_m, y_M, y_l, y_u = linear_transform(y_0)\n",
        "\n",
        "# Plot x_ versus formula prices\n",
        "plt.scatter(x_0.detach().numpy(), y_0.detach().numpy(), label='true')\n",
        "\n",
        "# Get BSM Prices as determined by the model\n",
        "y_pred = learnedfun(x_0)\n",
        "\n",
        "# Plot x_ versus the model prices\n",
        "plt.scatter(x_0.detach().numpy(), y_pred.detach().numpy(), label='pred')\n",
        "\n",
        "plt.legend()\n"
      ],
      "execution_count": 28,
      "outputs": [
        {
          "output_type": "execute_result",
          "data": {
            "text/plain": [
              "<matplotlib.legend.Legend at 0x7f0fdbe03cc0>"
            ]
          },
          "metadata": {
            "tags": []
          },
          "execution_count": 28
        },
        {
          "output_type": "display_data",
          "data": {
            "image/png": "[encoded data removed]",
            "text/plain": [
              "<Figure size 432x288 with 1 Axes>"
            ]
          },
          "metadata": {
            "tags": []
          }
        }
      ]
    },
    {
      "cell_type": "code",
      "metadata": {
        "id": "btJeLUznONYl",
        "colab_type": "code",
        "colab": {}
      },
      "source": [
        ""
      ],
      "execution_count": 0,
      "outputs": []
    }
  ]
}