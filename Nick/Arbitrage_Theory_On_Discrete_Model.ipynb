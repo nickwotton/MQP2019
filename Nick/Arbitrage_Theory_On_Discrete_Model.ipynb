{
  "nbformat": 4,
  "nbformat_minor": 0,
  "metadata": {
    "kernelspec": {
      "display_name": "Python 3",
      "language": "python",
      "name": "python3"
    },
    "language_info": {
      "codemirror_mode": {
        "name": "ipython",
        "version": 3
      },
      "file_extension": ".py",
      "mimetype": "text/x-python",
      "name": "python",
      "nbconvert_exporter": "python",
      "pygments_lexer": "ipython3",
      "version": "3.7.4"
    },
    "colab": {
      "name": "Copy of Arbitrage_Theory_On_Discrete_Model.ipynb",
      "provenance": [],
      "include_colab_link": true
    }
  },
  "cells": [
    {
      "cell_type": "markdown",
      "metadata": {
        "id": "view-in-github",
        "colab_type": "text"
      },
      "source": [
        "<a href=\"https://colab.research.google.com/github/nickwotton/MQP2019/blob/master/Nick/Arbitrage_Theory_On_Discrete_Model.ipynb\" target=\"_parent\"><img src=\"https://colab.research.google.com/assets/colab-badge.svg\" alt=\"Open In Colab\"/></a>"
      ]
    },
    {
      "cell_type": "markdown",
      "metadata": {
        "id": "nMBhQAkl3vIB",
        "colab_type": "text"
      },
      "source": [
        "# Arbitrage Theory on the Discrete Model"
      ]
    },
    {
      "cell_type": "markdown",
      "metadata": {
        "id": "3qCqNn_l3vIO",
        "colab_type": "text"
      },
      "source": [
        "__Def__\n",
        "\n",
        "A simple rate $r$ for a period $[0, T]$ is a savings account, which makes the balance at time $t=T$  \n",
        "$$X_T = X_0 (1 +r T)$$ \n",
        "from the initial capital $X_0$ at time $t=0$."
      ]
    },
    {
      "cell_type": "markdown",
      "metadata": {
        "id": "7AEZ-4Gd3vIQ",
        "colab_type": "text"
      },
      "source": [
        "__Def__\n",
        "\n",
        "An n-step binomial tree model $B(n, p, S, u, d)$ is given by\n",
        "\n",
        "- At $t=0$, the price is $S_t = S$;\n",
        "- $\\{X_t: 1\\le t \\le n\\}$ is iid Bernoulli$(p)$ random variables;\n",
        "- If $1\\le t \\le n$, the price is \n",
        "$$S_{t} = S_{t-1} ( \\textbf{1}_{\\{X_t = 1\\}} u  + \\textbf{1}_{\\{X_t = 0\\}} d).$$ \n",
        "Where $\\textbf{1}_{\\{X_t = i\\}}$ is the indicator function taking value $1$ when the condition specified is met and value $0$ otherwise."
      ]
    },
    {
      "cell_type": "markdown",
      "metadata": {
        "id": "MuKfSP6l3vIS",
        "colab_type": "text"
      },
      "source": [
        "__Def__\n",
        "\n",
        "An asset model is called ***arbitrage free*** if there exists no arbitrage opportunities within the model. An ***arbitrage opportunity*** exists when it is possibly for an investor to construct a trading strategy in which there is a zero probability of losing money and it is possible to start with no initial capital and make money with positive probability. Avoiding such opportunities is achieved by determining the risk-neutral probability associated with the asset and using it to price the model.\n",
        "\n",
        "<center><font size=\"-2\">From <i>Statistics and Finance</i> by Ruppert p. 259</font></center>\n"
      ]
    },
    {
      "cell_type": "markdown",
      "metadata": {
        "id": "yKgNdUBR3vIY",
        "colab_type": "text"
      },
      "source": [
        "__ex__ Given an asset model $B(1, p, S, u, d)$ and simple rate $0\\le r\\le 1$ on period $[0,1]$, prove that it is arbitrage free if and only if $d < (1 + r) < u$."
      ]
    },
    {
      "cell_type": "markdown",
      "metadata": {
        "id": "SYBiJZiz3vIe",
        "colab_type": "text"
      },
      "source": [
        "__Proof__\n",
        "\n",
        "**($\\Rightarrow$)** If the model is arbitrage free then $d < (1+r) < u$:\n",
        "\n",
        "Suppose the given asset model is arbitrage free. This means a risk-neutral probability, $q$ exists. We know the risk neutral probability has form\n",
        "$$ q = \\frac{(1+r)S-dS}{uS - dS}$$ \n",
        "<center><font size=\"-2\">From <i>Statistics and Finance</i> by Ruppert p. 266</font></center><br>\n",
        "Since this is a probability we know $0 \\leq q \\leq 1$ which implies\n",
        "$$0 \\leq \\frac{(1+r)S-dS}{uS - dS} \\leq 1$$\n",
        "However, note that if $q=0$:\n",
        "$$ q = 0 = \\frac{(1+r)S-dS}{uS - dS} \\Rightarrow (1+r)S-dS = 0 \\Rightarrow dS = (1+r)S \\Rightarrow d = 1 +r$$\n",
        "And if this is the case, we can construct an arbitrage opportunity as follows: borrow from $S$ the MMA and invest it in the risky asset. At expiry $t=1$, we have either $dS$ or $uS$ in the risky asset. So either we have a profit of $(u-d)S$ or zero dollars. Thus we had a positive probability to make money and zero probability of losing money, which is an arbitrage opportunity. This violates our assumption that the asset model is arbitrage free.\n",
        "\n",
        "Note also that if $q=1$:\n",
        "$$ q = 1 = \\frac{(1+r)S-dS}{uS - dS} \\Rightarrow uS - dS = (1+r)S-dS \\Rightarrow uS = (1+r)S \\Rightarrow u = 1+r$$\n",
        "If this is the case, we can again construct an arbitrage opportunity: short the risky asset and put the $S$ dollars into the MMA. Then at expiry, we have $uS$ dollars in the MMA which we can use to close our short position in the risky asset leaving us with a profit of either $(u-d)S$ or zero dollars. Again, this is an arbitrage opportunity.\n",
        "\n",
        "Thus, we know $0 < q < 1$.\n",
        "\n",
        "We can then manipulate this equation as follows:\n",
        "$$0 < \\frac{(1+r)S-dS}{uS - dS} < 1 \\Rightarrow 0 < (1+r)S-dS < uS - dS \\Rightarrow$$\n",
        "$$ dS < (1+r)S < uS \\Rightarrow d < (1+r) < u$$\n",
        "\n",
        "Thus, the absence of arbitrage guarentees the existence of the risk-neutral probability measure which in turn gives rise to the inequality $d \\leq (1+r) \\leq u$. $\\square$\n",
        "\n",
        "<br>\n",
        "\n",
        "**($\\Leftarrow$)** If $d < (1+r) < u$ then the model is arbitrage free:\n",
        "\n",
        "Suppose $d < (1+r) < u$ does not hold. This could lead to five cases:\n",
        "\n",
        "**(1)** $d < u < (1+r)$ or **(2)** $ (1+r) < d < u$ or **(3)** $ d \\leq (1+r) \\leq u $ or **(4)** $d \\leq (1+r) < u$ or **(5)** $d < (1+r) \\leq u$\n",
        "\n",
        "<br>\n",
        "\n",
        "**(1)**\n",
        "Suppose $d < u < (1+r)$. Let us short the risky asset and invest the cash into the risk-free asset; that is sell $\\$S$ of the asset and put it into the Money Market Account with interest rate $r$. \n",
        "\n",
        "At time $t=0$, we have $S$ in the risk-free asset and are short $S$ in the risky asset.\n",
        "\n",
        "At time $t=1$, that is at expiry, we have $S(1+r)$ in the MMA and are short either $uS$ or $dS$ in the risky asset depending on if the asset price went up or down. Observe that since $d < u < (1+r)$, we know $dS < uS < S(1+r)$. Therefore, regardless of whether the stock price increased or decreased, our sum in the risk-free asset is enough to \"buy back\" the risky asset, that is close our position. After doing that we are left with $S(1+r)-uS \\textbf{1}_{\\{X_1 = 1\\}} -dS\\textbf{1}_{\\{X_1 = 0\\}}$, where $\\textbf{1}_{\\{X_1 = i\\}}$ is the indicator function. Note that due to our inequality, this amount will be greater than zero, thus we have made money without any initial capital or risk of loss, which is an arbitrage oppurtunity.\n",
        "\n",
        "<br>\n",
        "\n",
        "**(2)**\n",
        "Suppose $ (1+r) < d < u$. Let us borrow $\\$S$ from the Money Market Account at interest rate $r$, that is short the risk-free asset, and invest that in the risky asset. \n",
        "\n",
        "At time $t=0$, we have a short position of $\\$S$ in the MMA, and a long position of $\\$S$ in the risky asset. \n",
        "\n",
        "At time $t=1$, we owe $S(1+r)$ to the lender and have either $uS$ or $dS$ in the risky asset. Since both $u$ and $d$ are greater than $(1+r)$ via our inequlity, $ (1+r) < d < u$, we know $ S(1+r) < dS < uS$. Thus, no matter the behavior of the stock, we make an amount greater than that which we owe to the lender. Thus, by closing both the long and short positions, we make a payoff of $uS\\textbf{1}_{\\{X_1 = 1\\}} + dS\\textbf{1}_{\\{X_1 = 0\\}} - S(1+r)$, where again $\\textbf{1}_{\\{X_1 = i\\}}$ is the indicator function. Note that, again, this quantity will be positive, so we have made money without any initial capital or risk of loss which is, again, an arbitrage opportunity.\n",
        "\n",
        "**(3)**\n",
        "Observe that if $ d \\leq (1+r) \\leq u $, then we do not have a risky asset, we have two identical money market accounts. Thus, there is no probability of losing money and you will always gain money at the interest rate. \n",
        "\n",
        "**(4) and (5)**\n",
        "As we stated in the first part of the proof, if one of the risky assset's factors is equal to $(1+r)$, we can construct a strategy to create an arbitrage opportunity. To reiterate, if $d = 1+r$, we borrow from the MMA and invest in the risky asset. This has zero probability of losing money and will make money with positive probability. If $u = 1+r$, we short the asset and invest in the MMA, thus again making money with positive probability.\n",
        "\n",
        "**Thus** since in any case it is possible to construct a trading strategy beginning with no initial capital that makes a profit with nonzero probability and has zero probability to lose money, we have an arbitrage opportunity. So, by contradiction if $d \\leq (1+r) \\leq u$ then the model is arbitrage free. $\\square$\n",
        "\n",
        "<br>\n",
        "\n",
        "**In Conclusion**, $d < (1+r) < u$ if and only if the asset model is arbitrage free. $\\blacksquare$"
      ]
    },
    {
      "cell_type": "markdown",
      "metadata": {
        "id": "LAI6EEOhH770",
        "colab_type": "text"
      },
      "source": [
        "### Extending to the Multiperiod Model\n"
      ]
    },
    {
      "cell_type": "code",
      "metadata": {
        "id": "ApwQ041i3vIu",
        "colab_type": "code",
        "colab": {}
      },
      "source": [
        ""
      ],
      "execution_count": 0,
      "outputs": []
    }
  ]
}