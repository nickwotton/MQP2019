{
  "nbformat": 4,
  "nbformat_minor": 0,
  "metadata": {
    "colab": {
      "name": "Copy of bsm_formula_v01.ipynb",
      "provenance": [],
      "include_colab_link": true
    },
    "kernelspec": {
      "display_name": "Python 3",
      "language": "python",
      "name": "python3"
    },
    "language_info": {
      "codemirror_mode": {
        "name": "ipython",
        "version": 3
      },
      "file_extension": ".py",
      "mimetype": "text/x-python",
      "name": "python",
      "nbconvert_exporter": "python",
      "pygments_lexer": "ipython3",
      "version": "3.7.4"
    }
  },
  "cells": [
    {
      "cell_type": "markdown",
      "metadata": {
        "id": "view-in-github",
        "colab_type": "text"
      },
      "source": [
        "<a href=\"https://colab.research.google.com/github/nickwotton/MQP2019/blob/master/Nick/BSM_formula_v01.ipynb\" target=\"_parent\"><img src=\"https://colab.research.google.com/assets/colab-badge.svg\" alt=\"Open In Colab\"/></a>"
      ]
    },
    {
      "cell_type": "markdown",
      "metadata": {
        "colab_type": "text",
        "id": "89t4J6Dmd-Eo"
      },
      "source": [
        "# BSM formula\n",
        "\n",
        "## Abstract\n",
        "\n",
        "- create GBM class\n",
        "- define a method for BSM formula for a given option type\n",
        "- consider possible relationships between parameters and call option price"
      ]
    },
    {
      "cell_type": "markdown",
      "metadata": {
        "colab_type": "text",
        "id": "y5hyO8FseuLn"
      },
      "source": [
        "## Analysis\n",
        "\n",
        "BS model assumes the distribution of stock as lognormal. In particular, it writes \n",
        "$$\\ln \\frac{S(T)}{S(0)} \\sim \\mathcal N((r  - \\frac 1 2 \\sigma^2) T, \\sigma^2 T)$$\n",
        "with respect to risk neutral measure. In the above, the parameters stand for\n",
        "\n",
        "* $S(0)$: The initial stock price\n",
        "* $S(T)$: The stock price at $T$\n",
        "* $r$: interest rate\n",
        "* $\\sigma$: volatility\n",
        "\n"
      ]
    },
    {
      "cell_type": "markdown",
      "metadata": {
        "colab_type": "text",
        "id": "4BEWnmSve9oM"
      },
      "source": [
        "\n",
        "The call and put price with maturity $T$ and strike price $K$ will be known as $C_0$ and $P_0$ given as below:\n",
        "$$C_0 = \\mathbb E [e^{-rT} (S(T) - K)^+] = S_0  \\Phi(d_1) - K e^{-rT} \\Phi(d_2),$$\n",
        "and \n",
        "$$P_0 = \\mathbb E [e^{-rT} (S(T) - K)^-] = K e^{-rT} \\Phi(- d_2) - S_0  \\Phi(- d_1),$$\n",
        "where $d_i$ are given as\n",
        "$$d_1 = \\frac{1}{\\sigma\\sqrt{\\left( T - t \\right)}}\n",
        "        \\left[\n",
        "          \\ln\\frac{S_{0}}{K}\n",
        "          +\n",
        "          \\left(\n",
        "            r + \\frac{\\sigma^2}{2}\n",
        "          \\right)\n",
        "          \\left(\n",
        "            T-t\n",
        "          \\right)\n",
        "        \\right],$$\n",
        "and\n",
        "$$d_2 = \\frac{1}{\\sigma\\sqrt{\\left( T - t \\right)}}\n",
        "        \\left[\n",
        "          \\ln\\frac{S_{0}}{K}\n",
        "          +\n",
        "          \\left(\n",
        "            r - \\frac{\\sigma^2}{2}\n",
        "          \\right)\n",
        "          \\left(\n",
        "            T-t\n",
        "          \\right)\n",
        "        \\right] = d_{1}-\\sigma\\sqrt{\\left( T - t \\right)}$$\n",
        "\n",
        "<p align=\"center\"><font size=\"-2\">(From $\\textit{Stochastic Calculus for Finance II Continuous Time Models}$ by Shreve)</font></p>\n",
        "and $\\Phi$ is the CDF of the Standard Normal Distribution:\n",
        "$$\\Phi(x)=\\frac{1}{\\sqrt{2\\pi}}\\int_{-\\infty}^{x}e^{-\\frac{t^2}{2}}dt$$\n",
        "\n",
        "Put-call parity will be useful:\n",
        "    $$C_0 - P_0 =  S(0) - e^{-rT} K.$$\n"
      ]
    },
    {
      "cell_type": "markdown",
      "metadata": {
        "colab_type": "text",
        "id": "mewOxcQJfFnT"
      },
      "source": [
        "## BSM Formula and Option Pricing"
      ]
    },
    {
      "cell_type": "code",
      "metadata": {
        "colab_type": "code",
        "id": "RXd_brmsfEs9",
        "colab": {}
      },
      "source": [
        "import numpy as np\n",
        "import scipy.stats as ss\n",
        "import matplotlib.pyplot as plt"
      ],
      "execution_count": 0,
      "outputs": []
    },
    {
      "cell_type": "markdown",
      "metadata": {
        "colab_type": "text",
        "id": "M40EwMCkfS21"
      },
      "source": [
        "We reload the european option class created before."
      ]
    },
    {
      "cell_type": "code",
      "metadata": {
        "colab_type": "code",
        "id": "czvpqtvId_3D",
        "colab": {}
      },
      "source": [
        "'''=========\n",
        "option class init\n",
        "=========='''\n",
        "class VanillaOption:\n",
        "    def __init__(\n",
        "        self,\n",
        "        otype = 1, # 1: 'call'\n",
        "                  # -1: 'put'\n",
        "        strike = 110.,\n",
        "        maturity = 1.,\n",
        "        market_price = 10.):\n",
        "      self.otype = otype               # Put or Call\n",
        "      self.strike = strike             # Strike K\n",
        "      self.maturity = maturity         # Maturity T\n",
        "      self.market_price = market_price #this will be used for calibration\n",
        "      \n",
        "        \n",
        "    def payoff(self, s): #s: excercise price\n",
        "      otype = self.otype\n",
        "      k = self.strike\n",
        "      maturity = self.maturity\n",
        "      return np.max([0, (s - k)*otype])"
      ],
      "execution_count": 0,
      "outputs": []
    },
    {
      "cell_type": "markdown",
      "metadata": {
        "colab_type": "text",
        "id": "rdPRhkW0fhkn"
      },
      "source": [
        "Observe the defined Payoff function above. Mathemtacially, we have the Payoff for an option at time $t$ is:\n",
        "\n",
        "Call Options:\n",
        "$P_{Call}(t)=max\\{0, S_{t} - K\\}$\n",
        "\n",
        "Put Options:\n",
        "$P_{Put}(t)=max\\{0, K-S_{t}\\}$\n",
        "\n",
        "Graphically, we have the payoffs for Call and Put respectively:\n",
        "\n",
        "![European Call Option Payoff](https://drive.google.com/uc?id=1ZJfxv17b_nfhOegJmGdeydvz1xfGgezI) \n",
        "![European Put Option Payoff](https://drive.google.com/uc?id=1zLRjiHym9md5QBQbrpalZM3TosrADAbh)\n",
        "\n",
        "For the Call Option, this means that if at expiry time $T$ the price of the stock is below or equal to $K$, the holder will not exercise it, thus, their Payoff is $\\$0$. However, if at expiry the price of the stock is greater than $K$, the holder does exercise the option, thus their Payoff is equal to the difference between $S_T$ and $K$. For example, for a strike price $K = \\$110$, if the stock price at time $T$ is \n",
        "- $\\$100$, the holder makes $\\$0$ since $K\\geq\\$100$.\n",
        "- $\\$120$, the holder makes $S_T-K=\\$120-\\$110=\\$10$\n",
        "\n",
        "However, for the Put option, at expiry $T$ the holder only exercises the option if the price of the stock, $S_T$ is less than $K$. In that case, their Payoff is equal to the difference between $K$ and $S_T$. If the price of the stock is greater than $K$, then the holder does not exercise the stock, thus making $\\$0$. Again, for example, for a strike price $K=\\$110$, if the stock price at time $T$ is \n",
        "- $\\$100$, the holder makes $\\$110-\\$100=\\$10$\n",
        "- $\\$120$, the holder makes $\\$0$ since $K\\leq\\$120$\n",
        "\n",
        "Next, we create the Geometric Brownian Motion (gbm) class, which is \n",
        "determined by three parameters. We shall initialize it\n",
        "as it  is created."
      ]
    },
    {
      "cell_type": "code",
      "metadata": {
        "colab_type": "code",
        "id": "CQbFAFX-fYuw",
        "colab": {}
      },
      "source": [
        "'''============\n",
        "Gbm class inherited from sde_1d\n",
        "============='''\n",
        "\n",
        "class Gbm:\n",
        "    def __init__(self,\n",
        "                 init_state = 100.,\n",
        "                 drift_ratio = .0475,\n",
        "                 vol_ratio = .2\n",
        "                ):\n",
        "        self.init_state = init_state\n",
        "        self.drift_ratio = drift_ratio\n",
        "        self.vol_ratio = vol_ratio"
      ],
      "execution_count": 0,
      "outputs": []
    },
    {
      "cell_type": "markdown",
      "metadata": {
        "colab_type": "text",
        "id": "6qcWtlDCgAO9"
      },
      "source": [
        "The BSM formula is given by a method of the Gbm class with an input of an option."
      ]
    },
    {
      "cell_type": "code",
      "metadata": {
        "colab_type": "code",
        "id": "KTFuh0GIfpOW",
        "colab": {}
      },
      "source": [
        "'''========\n",
        "Black-Scholes-Merton formula. \n",
        "=========='''\n",
        "\n",
        "def bsm_price(self, vanilla_option):\n",
        "    s0 = self.init_state\n",
        "    sigma = self.vol_ratio\n",
        "    r = self.drift_ratio\n",
        "    \n",
        "    otype = vanilla_option.otype\n",
        "    k = vanilla_option.strike\n",
        "    maturity = vanilla_option.maturity\n",
        "    \n",
        "    d1 = 1/(sigma*np.sqrt(maturity))*(np.log(s0/k) + (r + np.power(sigma,2)/2)*(maturity)) \n",
        "    print(ss.norm.cdf(d1))\n",
        "    d2 = 1/(sigma*np.sqrt(maturity))*(np.log(s0/k) + (r - np.power(sigma,2)/2)*(maturity)) \n",
        "    print(ss.norm.cdf(d2))\n",
        "    return (otype * s0 * ss.norm.cdf(otype * d1) #line break needs parenthesis\n",
        "            - otype * np.exp(-r * maturity) * k * ss.norm.cdf(otype * d2))\n",
        "\n",
        "Gbm.bsm_price = bsm_price"
      ],
      "execution_count": 0,
      "outputs": []
    },
    {
      "cell_type": "code",
      "metadata": {
        "colab_type": "code",
        "id": "iDswnsxjf_h5",
        "outputId": "4910720a-c44d-47e4-d0c9-05b69c41a598",
        "colab": {
          "base_uri": "https://localhost:8080/",
          "height": 118
        }
      },
      "source": [
        "'''===============\n",
        "Test bsm_price\n",
        "================='''\n",
        "gbm1 = Gbm()\n",
        "option1 = VanillaOption()\n",
        "print('>>>>>>>>>>call value is ' + str(gbm1.bsm_price(option1)))\n",
        "option2 = VanillaOption(otype=-1)\n",
        "print('>>>>>>>>>>put value is ' + str(gbm1.bsm_price(option2)))\n"
      ],
      "execution_count": 12,
      "outputs": [
        {
          "output_type": "stream",
          "text": [
            "-0.13905089902162443\n",
            "-0.3390508990216245\n",
            ">>>>>>>>>>call value is 5.943273183452845\n",
            "-0.13905089902162443\n",
            "-0.3390508990216245\n",
            ">>>>>>>>>>put value is 10.84042522804176\n"
          ],
          "name": "stdout"
        }
      ]
    },
    {
      "cell_type": "markdown",
      "metadata": {
        "id": "_wQmEJ7BJPUf",
        "colab_type": "text"
      },
      "source": [
        "## Search for Trends with the Call Option\n",
        "### Vary Underlying Asset Price $S_0$\n",
        "Now we will calculate the Call price for options with the same strike price $K$ but different underlying values $S_0$.\n"
      ]
    },
    {
      "cell_type": "code",
      "metadata": {
        "colab_type": "code",
        "id": "BrvYN7v0gWK5",
        "outputId": "6bba8bce-957f-4b53-8a4c-97f6380ef883",
        "colab": {
          "base_uri": "https://localhost:8080/",
          "height": 987
        }
      },
      "source": [
        "# Define a new GBM\n",
        "gbm2 = Gbm()\n",
        "\n",
        "'''=============\n",
        "Vary Underlying price between 90 and 110\n",
        "=============='''\n",
        "underlyingPrice = []      # Array of Underlying values s0 that will be used to plot\n",
        "optionPrice = []          # Array of Call option prices for associated s0\n",
        "for i in range(90, 111):  # Iterate from 90 to 110 stepping up by 1 \n",
        "  gbm2.init_state = i\n",
        "  callPrice = gbm2.bsm_price(option1)\n",
        "  underlyingPrice.append(i)\n",
        "  optionPrice.append(callPrice)\n",
        "\n",
        "# Print the Plot\n",
        "plt.scatter(underlyingPrice, optionPrice)\n",
        "plt.show  "
      ],
      "execution_count": 26,
      "outputs": [
        {
          "output_type": "stream",
          "text": [
            "0.25275237966339714\n",
            "0.193285259200267\n",
            "0.2707307888491909\n",
            "0.2087964743922497\n",
            "0.2891194609063652\n",
            "0.2248369058944653\n",
            "0.3078673979788066\n",
            "0.2413694038545809\n",
            "0.3269221986695993\n",
            "0.25835410926090385\n",
            "0.34623055216568244\n",
            "0.2757488455624566\n",
            "0.3657387196294787\n",
            "0.293509522244362\n",
            "0.38539299675372884\n",
            "0.3115905440156961\n",
            "0.4051401521826041\n",
            "0.3299452196096223\n",
            "0.42492783733906103\n",
            "0.3485261646280162\n",
            "0.44470496404281507\n",
            "0.3672856933661249\n",
            "0.46442204713542423\n",
            "0.38617619510874457\n",
            "0.48403151013167045\n",
            "0.40515049098032213\n",
            "0.5034879526755849\n",
            "0.42416216804097173\n",
            "0.522748379283738\n",
            "0.4431658879337231\n",
            "0.5417723894993561\n",
            "0.46211766799225257\n",
            "0.560522330152474\n",
            "0.480975133301468\n",
            "0.578963410920241\n",
            "0.4996977387561889\n",
            "0.5970637848062537\n",
            "0.5182469606780793\n",
            "0.614794595508932\n",
            "0.5365864580221723\n",
            "0.632129993928523\n",
            "0.5546822036275671\n"
          ],
          "name": "stdout"
        },
        {
          "output_type": "execute_result",
          "data": {
            "text/plain": [
              "<function matplotlib.pyplot.show>"
            ]
          },
          "metadata": {
            "tags": []
          },
          "execution_count": 26
        },
        {
          "output_type": "display_data",
          "data": {
            "image/png": "[encoded data removed]",
            "text/plain": [
              "<Figure size 432x288 with 1 Axes>"
            ]
          },
          "metadata": {
            "tags": []
          }
        }
      ]
    },
    {
      "cell_type": "markdown",
      "metadata": {
        "id": "b5qLuti9Qis1",
        "colab_type": "text"
      },
      "source": [
        "This graph suggests that there is an exponential relationship between Call Option price and price of the underlying asset at time $t=0$, $S_0$ for the fixed strike price $K=\\$110$ and underlying price varying from $\\$90$ to $\\$110$. \n",
        "\n",
        "We examine the math behind this phenomenon:\n",
        "\n",
        "Recall the formula for the Call option price:\n",
        "$$C_0 = S_0  \\Phi(d_1) - K e^{-rT} \\Phi(d_2),$$\n",
        "The formula for the two $d_i$'s can be substituted in:\n",
        "$$C_0 = S_0  \\Phi\\left(\\frac{1}{\\sigma\\sqrt{\\left( T - t \\right)}}\n",
        "        \\left[\n",
        "          \\ln\\frac{S_{0}}{K}\n",
        "          +\n",
        "          \\left(\n",
        "            r + \\frac{\\sigma^2}{2}\n",
        "          \\right)\n",
        "          \\left(\n",
        "            T-t\n",
        "          \\right)\n",
        "        \\right]\\right) - K e^{-rT} \\Phi\\left(\\frac{1}{\\sigma\\sqrt{\\left( T - t \\right)}}\n",
        "        \\left[\n",
        "          \\ln\\frac{S_{0}}{K}\n",
        "          +\n",
        "          \\left(\n",
        "            r - \\frac{\\sigma^2}{2}\n",
        "          \\right)\n",
        "          \\left(\n",
        "            T-t\n",
        "          \\right)\n",
        "        \\right]\\right),$$\n",
        "\n",
        "Next we examine the effect of smaller changes in the underlying asset."
      ]
    },
    {
      "cell_type": "code",
      "metadata": {
        "id": "AcjjJXEvOb01",
        "colab_type": "code",
        "outputId": "6021e36e-67f5-4559-9731-db169bac9c40",
        "colab": {
          "base_uri": "https://localhost:8080/",
          "height": 282
        }
      },
      "source": [
        "# Define a new GBM\n",
        "gbm3 = Gbm()\n",
        "\n",
        "'''=============\n",
        "Vary Underlying price between 110 and 130\n",
        "=============='''\n",
        "underlyingPrice = []        # Array of Underlying values s0 that will be used to plot\n",
        "optionPrice = []            # Array of Call option prices for associated s0\n",
        "for i in range(110, 151):  # Iterate from 110 to 130 \n",
        "  gbm3.init_state = i\n",
        "  callPrice = gbm3.bsm_price(option1)\n",
        "  underlyingPrice.append(i)\n",
        "  optionPrice.append(callPrice)\n",
        "\n",
        "# Print the plot\n",
        "plt.scatter(underlyingPrice, optionPrice)\n",
        "plt.show"
      ],
      "execution_count": 22,
      "outputs": [
        {
          "output_type": "execute_result",
          "data": {
            "text/plain": [
              "<function matplotlib.pyplot.show>"
            ]
          },
          "metadata": {
            "tags": []
          },
          "execution_count": 22
        },
        {
          "output_type": "display_data",
          "data": {
            "image/png": "[encoded data removed]",
            "text/plain": [
              "<Figure size 432x288 with 1 Axes>"
            ]
          },
          "metadata": {
            "tags": []
          }
        }
      ]
    },
    {
      "cell_type": "markdown",
      "metadata": {
        "id": "ie2A8IX1RGlW",
        "colab_type": "text"
      },
      "source": [
        "This plot shows that the two factors may have a linear relationship, so we perform one more test."
      ]
    },
    {
      "cell_type": "code",
      "metadata": {
        "colab_type": "code",
        "outputId": "38da0865-2d2c-4d04-be8f-f4679dd155db",
        "id": "kK50QtEYBCPX",
        "colab": {
          "base_uri": "https://localhost:8080/",
          "height": 282
        }
      },
      "source": [
        "# Define a new GBM\n",
        "gbm4 = Gbm()\n",
        "\n",
        "'''=============\n",
        "Vary Underlying price between 50 and 300\n",
        "=============='''\n",
        "underlyingPrice = []      # Array of Underlying values s0 that will be used to plot\n",
        "optionPrice = []          # Array of Call option prices for associated s0\n",
        "for i in range(50, 161):  # Iterate from 50 to 160 stepping up by 1 \n",
        "  gbm4.init_state = i\n",
        "  callPrice = gbm4.bsm_price(option1)\n",
        "  underlyingPrice.append(i)\n",
        "  optionPrice.append(callPrice)\n",
        "\n",
        "# Print the Plot\n",
        "plt.scatter(underlyingPrice, optionPrice)\n",
        "plt.show"
      ],
      "execution_count": 20,
      "outputs": [
        {
          "output_type": "execute_result",
          "data": {
            "text/plain": [
              "<function matplotlib.pyplot.show>"
            ]
          },
          "metadata": {
            "tags": []
          },
          "execution_count": 20
        },
        {
          "output_type": "display_data",
          "data": {
            "image/png": "[encoded data removed]",
            "text/plain": [
              "<Figure size 432x288 with 1 Axes>"
            ]
          },
          "metadata": {
            "tags": []
          }
        }
      ]
    },
    {
      "cell_type": "markdown",
      "metadata": {
        "id": "yHjCb0cjR6RE",
        "colab_type": "text"
      },
      "source": [
        "This plot seems to be exponential. However, consider the strike price $K=\\$110$. The exponential growth in the function seems to happen before the $\\$110$ mark, while, as we explored above, the values beyond that show a linear relationship. Note that, intuitively, the probability of the stock reaching and surpassing the strike price decreases as the time 0 price of the stock gets further below $\\$110$. This drives the price of the option down. Conversely, if the price of the underlying is greater than the strike, the probability the stock price surpasses the strike becomes higher. Thus, the option price goes up.\n",
        "\n",
        "Mathematically, we can see this as well:\n",
        "\n",
        "Recall the formula for the Call option price:\n",
        "$$C_0 = S_0  \\Phi(d_1) - K e^{-rT} \\Phi(d_2),$$\n",
        "The formula for the two $d_i$'s can be substituted in:\n",
        "$$C_0 = S_0  \\Phi\\left(\\frac{1}{\\sigma\\sqrt{\\left( T - t \\right)}}\n",
        "        \\left[\n",
        "          \\ln\\frac{S_{0}}{K}\n",
        "          +\n",
        "          \\left(\n",
        "            r + \\frac{\\sigma^2}{2}\n",
        "          \\right)\n",
        "          \\left(\n",
        "            T-t\n",
        "          \\right)\n",
        "        \\right]\\right) - K e^{-rT} \\Phi\\left(\\frac{1}{\\sigma\\sqrt{\\left( T - t \\right)}}\n",
        "        \\left[\n",
        "          \\ln\\frac{S_{0}}{K}\n",
        "          +\n",
        "          \\left(\n",
        "            r - \\frac{\\sigma^2}{2}\n",
        "          \\right)\n",
        "          \\left(\n",
        "            T-t\n",
        "          \\right)\n",
        "        \\right]\\right),$$\n",
        "\n",
        "Observe that if $S_0$ is greater than $K$, the expression $\\frac{S_0}{K}$ is greater than $1$, so $ln\\left(\\frac{S_0}{K}\\right)$ is positive.\n",
        "Conversely, if $S_0$ is less than $K$, the expression $ln\\left(\\frac{S_0}{K}\\right)$ is negative. Since $\\frac{1}{\\sigma\\sqrt{(T-t)}}$ is always positive, we know that the positive or negative value obtained from the natural logarithm will directly affect the expression given to the normal CDF. Since the normal CDF is a measure of area based on the limit given to it as an argument, the higher the value of that argument, the higher the total area.\n",
        "Note also that as the CDF of a random variable, the area given will be less than or equal to $1$. Thus our equation above can again be reduced:\n",
        "$$C_0 = S_0  p_1 - K e^{-rT} p_2,$$\n",
        "where $p_1, p_2$ are just some positive probabilities. Observe that $p_1 > p_2$ since $d_1 > d_2$. Consider that $S_0=K+m$ for some $m$:\n",
        "\n",
        "$$C_0 = S_0  p_1 - K e^{-rT} p_2 = (K+m)  p_1 - K e^{-rT} p_2 =  p_1K + mp_1 - K e^{-rT} p_2 = K(p_1 - e^{-rT} p_2) + mp_1$$\n",
        "Since $e^{-rT}$ is the time value of money, it is at most $1$. Thus, we have:\n",
        "$$K(p_1 - e^{-rT} p_2) + mp_1 \\leq Kp_1 + mp_1 $$\n",
        "\n",
        "So, if $m \\leq 0$, that is if $S_0 \\leq K$, the option price will decrease, while if $m > 0$, that is if $S_0 > K$, the option price will increase.\n",
        "\n"
      ]
    },
    {
      "cell_type": "markdown",
      "metadata": {
        "id": "dpZzKN-tPGhx",
        "colab_type": "text"
      },
      "source": [
        "### Vary Volatility $\\sigma$\n",
        "Next, we will leave the underlying price fixed at 100 and vary the volatility, $\\sigma$."
      ]
    },
    {
      "cell_type": "code",
      "metadata": {
        "id": "JEiH9SeVPUB3",
        "colab_type": "code",
        "colab": {}
      },
      "source": [
        "# Define a new GBM\n",
        "gbm5 = Gbm()\n",
        "\n",
        "'''=============\n",
        "Vary Volatility between 0.01 and 0.1\n",
        "=============='''\n",
        "volatilities = []           # Array of Underlying values s0 that will be used to plot\n",
        "optionPrice = []            # Array of Call option prices for associated s0\n",
        "for i in range(10, 101):    # Iterate from 0.01 to 0.1 stepping up by 0.001 \n",
        "  j = i / 1000              # Divide by 1000 to get the value we want\n",
        "  gbm5.vol_ratio = j\n",
        "  callPrice = gbm5.bsm_price(option1)\n",
        "  volatilities.append(j)\n",
        "  optionPrice.append(callPrice)\n",
        "\n",
        "# Print the plot\n",
        "plt.scatter(volatilities, optionPrice)\n",
        "plt.show"
      ],
      "execution_count": 0,
      "outputs": []
    },
    {
      "cell_type": "markdown",
      "metadata": {
        "id": "NBbao1nDTItN",
        "colab_type": "text"
      },
      "source": [
        "Again, we are seeing an exponential trend in the relationship between Volatility and Call option price. We try another example with a greater upper parameter."
      ]
    },
    {
      "cell_type": "code",
      "metadata": {
        "id": "brgeBlQ8TTDC",
        "colab_type": "code",
        "colab": {}
      },
      "source": [
        "# Define a new GBM\n",
        "gbm6 = Gbm()\n",
        "\n",
        "'''=============\n",
        "Vary Volatility between 0.01 and 0.3\n",
        "  With step size 0.001\n",
        "=============='''\n",
        "volatilities = []           # Array of Underlying values s0 that will be used to plot\n",
        "optionPrice = []            # Array of Call option prices for associated s0\n",
        "for i in range(10, 301):    # Iterate from 0.01 to 0.3 stepping up by 0.001 \n",
        "  j = i / 1000              # Divide by 1000 to get the value we want\n",
        "  gbm6.vol_ratio = j\n",
        "  callPrice = gbm6.bsm_price(option1)\n",
        "  volatilities.append(j)\n",
        "  optionPrice.append(callPrice)\n",
        "\n",
        "# Print the plot\n",
        "plt.scatter(volatilities, optionPrice)\n",
        "plt.show"
      ],
      "execution_count": 0,
      "outputs": []
    },
    {
      "cell_type": "markdown",
      "metadata": {
        "id": "ifdj20g1Tmed",
        "colab_type": "text"
      },
      "source": [
        "This shows a mostly linear relationship beyond volatility of $0.05$. Finally, we will try another example with more data points."
      ]
    },
    {
      "cell_type": "code",
      "metadata": {
        "id": "ozheo8zeTtBt",
        "colab_type": "code",
        "colab": {}
      },
      "source": [
        "# Define a new GBM\n",
        "gbm7 = Gbm()\n",
        "\n",
        "'''=============\n",
        "Vary Volatility between 0.01 and 0.1\n",
        "  With step size 0.0001\n",
        "=============='''\n",
        "volatilities = []           # Array of Underlying values s0 that will be used to plot\n",
        "optionPrice = []            # Array of Call option prices for associated s0\n",
        "for i in range(100, 1001):  # Iterate from 0.01 to 0.1 stepping up by 0.0001 \n",
        "  j = i / 10000             # Divide by 10000 to get the value we want\n",
        "  gbm7.vol_ratio = j\n",
        "  callPrice = gbm7.bsm_price(option1)\n",
        "  volatilities.append(j)\n",
        "  optionPrice.append(callPrice)\n",
        "\n",
        "# Print the plot\n",
        "plt.scatter(volatilities, optionPrice)\n",
        "plt.show"
      ],
      "execution_count": 0,
      "outputs": []
    },
    {
      "cell_type": "markdown",
      "metadata": {
        "id": "pVpea3neUFDB",
        "colab_type": "text"
      },
      "source": [
        "All of these plots seem to enforce an exponential relationship between the Call option price and the volatility $\\sigma$ while $\\sigma$ is small, approximately less than $0.05$. But, when $\\sigma > 0.05$, we see a more strictly linear relationship."
      ]
    },
    {
      "cell_type": "markdown",
      "metadata": {
        "id": "ery21kCCYAc1",
        "colab_type": "text"
      },
      "source": [
        "### Conclusion\n",
        "In conclusion, this data shows that the price of the underlying asset may be exponentially related to the price of the call option on that asset. Additionally, the data shows that the volatility of a stock, $\\sigma$ seems to be exponentially related to the price of a call option for $\\sigma < 0.05$ and linearly related for $\\sigma > 0.05$."
      ]
    }
  ]
}