{
  "nbformat": 4,
  "nbformat_minor": 0,
  "metadata": {
    "colab": {
      "name": "Copy of BSM_NN_v02.ipynb ",
      "provenance": [],
      "include_colab_link": true
    },
    "kernelspec": {
      "display_name": "Python 3",
      "language": "python",
      "name": "python3"
    },
    "language_info": {
      "codemirror_mode": {
        "name": "ipython",
        "version": 3
      },
      "file_extension": ".py",
      "mimetype": "text/x-python",
      "name": "python",
      "nbconvert_exporter": "python",
      "pygments_lexer": "ipython3",
      "version": "3.7.4"
    }
  },
  "cells": [
    {
      "cell_type": "markdown",
      "metadata": {
        "id": "view-in-github",
        "colab_type": "text"
      },
      "source": [
        "<a href=\"https://colab.research.google.com/github/nickwotton/MQP2019/blob/master/Nick/BSM_NN_v02.ipynb\" target=\"_parent\"><img src=\"https://colab.research.google.com/assets/colab-badge.svg\" alt=\"Open In Colab\"/></a>"
      ]
    },
    {
      "cell_type": "markdown",
      "metadata": {
        "id": "Pu5uIyYP6Tnz",
        "colab_type": "text"
      },
      "source": [
        "# Attempt to Replicate the Black Scholes Model Using a Neural Network\n"
      ]
    },
    {
      "cell_type": "code",
      "metadata": {
        "colab_type": "code",
        "id": "KOvg3FsM7r51",
        "colab": {}
      },
      "source": [
        "import torch\n",
        "import torch.nn as nn\n",
        "import numpy as np\n",
        "import torch.nn.functional as F\n",
        "import matplotlib.pyplot as plt\n",
        "import scipy.stats as ss"
      ],
      "execution_count": 0,
      "outputs": []
    },
    {
      "cell_type": "markdown",
      "metadata": {
        "id": "O4PCo06270zm",
        "colab_type": "text"
      },
      "source": [
        "## Define the Function\n",
        "Here we define our function, the Black Scholes Model (BSM). First, we must initialize the option class, then the Geometric Brownian Motion Class, and finally the BSM class.\n",
        "Then we test the equation with a test value of 2."
      ]
    },
    {
      "cell_type": "code",
      "metadata": {
        "colab_type": "code",
        "id": "wdyGtXXn7r56",
        "colab": {}
      },
      "source": [
        "'''=========\n",
        "option class init\n",
        "=========='''\n",
        "class VanillaOption:\n",
        "    def __init__(\n",
        "        self,\n",
        "        otype = 1, # 1: 'call'\n",
        "                  # -1: 'put'\n",
        "        strike = 110.,\n",
        "        maturity = 1.,\n",
        "        market_price = 10.):\n",
        "      self.otype = otype               # Put or Call\n",
        "      self.strike = strike             # Strike K\n",
        "      self.maturity = maturity         # Maturity T\n",
        "      self.market_price = market_price #this will be used for calibration\n",
        "      \n",
        "        \n",
        "    def payoff(self, s): #s: excercise price\n",
        "      otype = self.otype\n",
        "      k = self.strike\n",
        "      maturity = self.maturity\n",
        "      return np.max([0, (s - k)*otype])\n"
      ],
      "execution_count": 0,
      "outputs": []
    },
    {
      "cell_type": "code",
      "metadata": {
        "id": "3ZT5HETX8jIs",
        "colab_type": "code",
        "colab": {}
      },
      "source": [
        "'''============\n",
        "Gbm class\n",
        "============='''\n",
        "\n",
        "class Gbm:\n",
        "    def __init__(self,\n",
        "                 init_state = 100.,\n",
        "                 drift_ratio = .0475,\n",
        "                 vol_ratio = .2\n",
        "                ):\n",
        "        self.init_state = init_state\n",
        "        self.drift_ratio = drift_ratio\n",
        "        self.vol_ratio = vol_ratio"
      ],
      "execution_count": 0,
      "outputs": []
    },
    {
      "cell_type": "code",
      "metadata": {
        "id": "Dkd7sAZCEYUk",
        "colab_type": "code",
        "colab": {}
      },
      "source": [
        "'''========\n",
        "Black-Scholes-Merton formula. \n",
        "=========='''\n",
        "\n",
        "def bsm_price(self, vanilla_option):\n",
        "    s0 = self.init_state\n",
        "    sigma = self.vol_ratio\n",
        "    r = self.drift_ratio\n",
        "    \n",
        "    otype = vanilla_option.otype\n",
        "    k = vanilla_option.strike\n",
        "    maturity = vanilla_option.maturity\n",
        "    \n",
        "    d1 = 1/(sigma*np.sqrt(maturity))*(np.log(s0/k) + (r + np.power(sigma,2)/2)*(maturity)) \n",
        "    d2 = 1/(sigma*np.sqrt(maturity))*(np.log(s0/k) + (r - np.power(sigma,2)/2)*(maturity)) \n",
        "    return (otype * s0 * ss.norm.cdf(otype * d1) #line break needs parenthesis\n",
        "            - otype * np.exp(-r * maturity) * k * ss.norm.cdf(otype * d2))\n",
        "\n",
        "Gbm.bsm_price = bsm_price"
      ],
      "execution_count": 0,
      "outputs": []
    },
    {
      "cell_type": "code",
      "metadata": {
        "id": "vC1nkSnVIBgi",
        "colab_type": "code",
        "colab": {}
      },
      "source": [
        "'''=======\n",
        "Get BSM prices given an option and a Tensor\n",
        "======='''\n",
        "\n",
        "def prices_bsm(self, vanilla_option, data):\n",
        "  \n",
        "  # Create the list\n",
        "  a = []\n",
        "\n",
        "  # Get tensor size\n",
        "  sizeT = list(data.size())[0]\n",
        "\n",
        "  for i in range(sizeT):\n",
        "    self.init_state = data[i].item()\n",
        "    callPrice = gbm1.bsm_price(vanilla_option)\n",
        "    a.append(callPrice)\n",
        "  \n",
        "  # Convert to array then tensor\n",
        "  arrayOut = np.array(a)\n",
        "  outputData = torch.from_numpy(arrayOut)\n",
        "  return outputData\n",
        "\n",
        "Gbm.prices_bsm = prices_bsm"
      ],
      "execution_count": 0,
      "outputs": []
    },
    {
      "cell_type": "markdown",
      "metadata": {
        "id": "7G7JVcog6Ref",
        "colab_type": "text"
      },
      "source": [
        "## Create Model\n",
        "Next, we create the neural network model. This is done first by setting the inner and outer dimensions with variables. Next we code the model and vary the internal dimensions to attempt to improve the model. At this level, this is essentially a simple linear algebra exercise:\n",
        "\n",
        "If we have input $x$, internal parameters $a,b$, and solution $f(x)$ then in the one-dimensional case we have:\n",
        "\n",
        "\\begin{equation}\n",
        "  \\left(\n",
        "    a_{1}x+b_{2}\n",
        "  \\right)\n",
        "  a_{2} + b_{2}\n",
        "  = f(x)\n",
        "\\end{equation}\n",
        "  \n",
        "However, we want to get a better estimate for the true equation. So we increase the interior dimension which corresponds to the number of neurons inside the network. For example, we raised the inner dimension to 3. In matrix form we have:\n",
        "\n",
        "\\begin{equation}\n",
        "\\left(\n",
        "  \\begin{bmatrix} x \\end{bmatrix} \n",
        "  \\begin{bmatrix} a_{1} & a_{2} & a_{3} \\end{bmatrix} \n",
        "  + \n",
        "  \\begin{bmatrix} b_{1} & b_{2} & b_{3} \\end{bmatrix}\n",
        "\\right)\n",
        " \\begin{bmatrix} a_{4} \\\\ a_{5} \\\\ a_{6} \\end{bmatrix}\n",
        " +\n",
        " \\begin{bmatrix} b_{4} \\\\ \\end{bmatrix}\n",
        " =\n",
        " \\begin{bmatrix} f(x) \\end{bmatrix}\n",
        "\\end{equation}\n",
        "\n",
        "Graphically, we can render this second neural network as:\n",
        "![Neural Network Diagram](https://drive.google.com/uc?id=1ItiBpdjPvWHF5ZWy8JDNDKq6dXfyU-IE)\n",
        "\n",
        "**ADD DESCRIPTION**"
      ]
    },
    {
      "cell_type": "code",
      "metadata": {
        "colab_type": "code",
        "id": "CiVUxudQ7r5_",
        "colab": {}
      },
      "source": [
        "#model\n",
        "#nn.Linear\n",
        "in_dim = 1\n",
        "out_dim = 1\n",
        "int_dim = 30\n",
        "\n",
        "model = nn.Sequential(\n",
        "    nn.Linear(in_dim, int_dim),\n",
        "    nn.ReLU(),\n",
        "    nn.Linear(int_dim, int_dim),\n",
        "    nn.ReLU(),\n",
        "    nn.Linear(int_dim, int_dim),\n",
        "    nn.ReLU(),\n",
        "    nn.Linear(int_dim, int_dim),\n",
        "    nn.ReLU(),\n",
        "    nn.Linear(int_dim, out_dim)\n",
        ")"
      ],
      "execution_count": 0,
      "outputs": []
    },
    {
      "cell_type": "markdown",
      "metadata": {
        "id": "OkuS30xvzTgV",
        "colab_type": "text"
      },
      "source": [
        "Here we define the Loss function as the Mean Squared Error(MSE). \n",
        "\n",
        "Note that by doing so, we are essentially 'cheating' the system. In most applications, we would not know the function $f$ so we would be unable to find the MSE."
      ]
    },
    {
      "cell_type": "code",
      "metadata": {
        "colab_type": "code",
        "id": "7TqjOaLs7r6C",
        "colab": {}
      },
      "source": [
        "#loss function \n",
        "criterion = nn.MSELoss()"
      ],
      "execution_count": 0,
      "outputs": []
    },
    {
      "cell_type": "markdown",
      "metadata": {
        "id": "xIblNHIrzt8f",
        "colab_type": "text"
      },
      "source": [
        "Next we choose a learning rate and a method for learning. The learning rate is the percent of the data that is accepted in each iteration. The Methods we tried were SGD and Adam. "
      ]
    },
    {
      "cell_type": "code",
      "metadata": {
        "colab_type": "code",
        "id": "E4rnJCtA7r6G",
        "colab": {}
      },
      "source": [
        "#optimizer\n",
        "learning_rate = 0.001\n",
        "optimizer = torch.optim.SGD(model.parameters(), lr=learning_rate) "
      ],
      "execution_count": 0,
      "outputs": []
    },
    {
      "cell_type": "markdown",
      "metadata": {
        "id": "W-FHbIND2A34",
        "colab_type": "text"
      },
      "source": [
        "## Train the Model\n",
        "\n",
        "First we create the training data. This is a batch of random points that we pass through the BSM."
      ]
    },
    {
      "cell_type": "code",
      "metadata": {
        "colab_type": "code",
        "id": "SbutUBbo7r6K",
        "colab": {
          "base_uri": "https://localhost:8080/",
          "height": 202
        },
        "outputId": "681cf3ef-be71-4aa6-dc67-e695608acf23"
      },
      "source": [
        "# Create Training Data\n",
        "\n",
        "batch_size = 1000\n",
        "\n",
        "# Create a list\n",
        "a = []\n",
        "\n",
        "# Generate randomized data\n",
        "x_train = torch.randn(batch_size, 1)\n",
        "# Modify the random data to be a stock price\n",
        "x_train = np.abs(x_train*100)\n",
        "\n",
        "# Create static training data for conistency\n",
        "#x_train = torch.tensor([[100], [105], [110], [115], [120]])\n",
        "\n",
        "# Initialize GBM\n",
        "gbm1 = Gbm()\n",
        "option = VanillaOption()\n",
        "\n",
        "# Call the prices_bsm to get y_train\n",
        "y_train = gbm1.prices_bsm(option, x_train)\n",
        "\n",
        "print(x_train[1:10])\n",
        "print(y_train[1:10])\n"
      ],
      "execution_count": 502,
      "outputs": [
        {
          "output_type": "stream",
          "text": [
            "tensor([[ 71.5008],\n",
            "        [115.8508],\n",
            "        [ 33.6284],\n",
            "        [ 83.0116],\n",
            "        [121.4624],\n",
            "        [109.2177],\n",
            "        [ 26.6234],\n",
            "        [102.6592],\n",
            "        [ 57.1551]])\n",
            "tensor([1.8277e-01, 1.5327e+01, 1.2633e-08, 1.1094e+00, 1.9605e+01, 1.0861e+01,\n",
            "        5.2244e-12, 7.1954e+00, 5.1848e-03], dtype=torch.float64)\n"
          ],
          "name": "stdout"
        }
      ]
    },
    {
      "cell_type": "markdown",
      "metadata": {
        "id": "W9VZMG4e2ziF",
        "colab_type": "text"
      },
      "source": [
        "Once we have the training data, we pass this collection of inputs and solutions into the model. With each iteration we calculate the loss and attempt to optimize the model to further reduce the loss.\n"
      ]
    },
    {
      "cell_type": "code",
      "metadata": {
        "colab_type": "code",
        "id": "4hNIFisK7r6M",
        "outputId": "282c83fe-666f-4854-e5cd-ffde3ce98045",
        "colab": {
          "base_uri": "https://localhost:8080/",
          "height": 1000
        }
      },
      "source": [
        "# Train the model\n",
        "\n",
        "num_epochs = 10000\n",
        "\n",
        "for epoch in range(num_epochs):\n",
        "\n",
        "    # Forward pass\n",
        "    outputs = model(x_train.float())\n",
        "    loss = criterion(outputs, y_train.float())\n",
        "    \n",
        "    # Backward and optimize\n",
        "    optimizer.zero_grad()\n",
        "    loss.backward()\n",
        "    optimizer.step()\n",
        "    \n",
        "    if epoch == 0 or (epoch+1) % 500 == 0:\n",
        "        print ('Epoch [{}/{}], Loss: {:.4f}'.format(epoch+1, \n",
        "                                                    num_epochs, loss.item()))\n",
        "        print(outputs[1:10])\n",
        "       \n",
        "      \n"
      ],
      "execution_count": 503,
      "outputs": [
        {
          "output_type": "stream",
          "text": [
            "Epoch [1/10000], Loss: 1481.6185\n",
            "tensor([[0.4463],\n",
            "        [0.7539],\n",
            "        [0.1777],\n",
            "        [0.5264],\n",
            "        [0.7925],\n",
            "        [0.7083],\n",
            "        [0.1272],\n",
            "        [0.6632],\n",
            "        [0.3463]], grad_fn=<SliceBackward>)\n"
          ],
          "name": "stdout"
        },
        {
          "output_type": "stream",
          "text": [
            "/usr/local/lib/python3.6/dist-packages/torch/nn/modules/loss.py:431: UserWarning: Using a target size (torch.Size([1000])) that is different to the input size (torch.Size([1000, 1])). This will likely lead to incorrect results due to broadcasting. Please ensure they have the same size.\n",
            "  return F.mse_loss(input, target, reduction=self.reduction)\n"
          ],
          "name": "stderr"
        },
        {
          "output_type": "stream",
          "text": [
            "Epoch [500/10000], Loss: 1221.7559\n",
            "tensor([[16.5599],\n",
            "        [16.5030],\n",
            "        [16.6306],\n",
            "        [16.5382],\n",
            "        [16.5031],\n",
            "        [16.5020],\n",
            "        [16.6437],\n",
            "        [16.5008],\n",
            "        [16.5867]], grad_fn=<SliceBackward>)\n",
            "Epoch [1000/10000], Loss: 1221.7511\n",
            "tensor([[16.5859],\n",
            "        [16.5796],\n",
            "        [16.5808],\n",
            "        [16.5844],\n",
            "        [16.5788],\n",
            "        [16.5806],\n",
            "        [16.6149],\n",
            "        [16.5815],\n",
            "        [16.5850]], grad_fn=<SliceBackward>)\n",
            "Epoch [1500/10000], Loss: 1221.7504\n",
            "tensor([[16.6007],\n",
            "        [16.5928],\n",
            "        [16.5941],\n",
            "        [16.5997],\n",
            "        [16.5914],\n",
            "        [16.5942],\n",
            "        [16.5858],\n",
            "        [16.5956],\n",
            "        [16.6006]], grad_fn=<SliceBackward>)\n",
            "Epoch [2000/10000], Loss: 1221.7501\n",
            "tensor([[16.6091],\n",
            "        [16.6095],\n",
            "        [16.6023],\n",
            "        [16.6097],\n",
            "        [16.6089],\n",
            "        [16.6103],\n",
            "        [16.5935],\n",
            "        [16.6108],\n",
            "        [16.6082]], grad_fn=<SliceBackward>)\n",
            "Epoch [2500/10000], Loss: 1221.7500\n",
            "tensor([[16.6083],\n",
            "        [16.6092],\n",
            "        [16.6041],\n",
            "        [16.6085],\n",
            "        [16.6093],\n",
            "        [16.6091],\n",
            "        [16.5951],\n",
            "        [16.6089],\n",
            "        [16.6081]], grad_fn=<SliceBackward>)\n",
            "Epoch [3000/10000], Loss: 1221.7500\n",
            "tensor([[16.6080],\n",
            "        [16.6083],\n",
            "        [16.6052],\n",
            "        [16.6079],\n",
            "        [16.6083],\n",
            "        [16.6082],\n",
            "        [16.5962],\n",
            "        [16.6081],\n",
            "        [16.6080]], grad_fn=<SliceBackward>)\n",
            "Epoch [3500/10000], Loss: 1221.7500\n",
            "tensor([[16.6078],\n",
            "        [16.6088],\n",
            "        [16.6060],\n",
            "        [16.6080],\n",
            "        [16.6090],\n",
            "        [16.6086],\n",
            "        [16.5969],\n",
            "        [16.6085],\n",
            "        [16.6077]], grad_fn=<SliceBackward>)\n",
            "Epoch [4000/10000], Loss: 1221.7499\n",
            "tensor([[16.6076],\n",
            "        [16.6093],\n",
            "        [16.6057],\n",
            "        [16.6079],\n",
            "        [16.6095],\n",
            "        [16.6090],\n",
            "        [16.5975],\n",
            "        [16.6087],\n",
            "        [16.6073]], grad_fn=<SliceBackward>)\n",
            "Epoch [4500/10000], Loss: 1221.7499\n",
            "tensor([[16.6078],\n",
            "        [16.6102],\n",
            "        [16.6055],\n",
            "        [16.6085],\n",
            "        [16.6099],\n",
            "        [16.6103],\n",
            "        [16.5980],\n",
            "        [16.6099],\n",
            "        [16.6072]], grad_fn=<SliceBackward>)\n",
            "Epoch [5000/10000], Loss: 1221.7499\n",
            "tensor([[16.6110],\n",
            "        [16.6130],\n",
            "        [16.6067],\n",
            "        [16.6127],\n",
            "        [16.6129],\n",
            "        [16.6130],\n",
            "        [16.5994],\n",
            "        [16.6131],\n",
            "        [16.6092]], grad_fn=<SliceBackward>)\n",
            "Epoch [5500/10000], Loss: 1221.7499\n",
            "tensor([[16.6133],\n",
            "        [16.6142],\n",
            "        [16.6068],\n",
            "        [16.6136],\n",
            "        [16.6142],\n",
            "        [16.6142],\n",
            "        [16.6009],\n",
            "        [16.6140],\n",
            "        [16.6111]], grad_fn=<SliceBackward>)\n",
            "Epoch [6000/10000], Loss: 1221.7499\n",
            "tensor([[16.6140],\n",
            "        [16.6160],\n",
            "        [16.6076],\n",
            "        [16.6147],\n",
            "        [16.6161],\n",
            "        [16.6159],\n",
            "        [16.6024],\n",
            "        [16.6157],\n",
            "        [16.6132]], grad_fn=<SliceBackward>)\n",
            "Epoch [6500/10000], Loss: 1221.7499\n",
            "tensor([[16.6140],\n",
            "        [16.6162],\n",
            "        [16.6080],\n",
            "        [16.6147],\n",
            "        [16.6163],\n",
            "        [16.6160],\n",
            "        [16.6035],\n",
            "        [16.6158],\n",
            "        [16.6127]], grad_fn=<SliceBackward>)\n",
            "Epoch [7000/10000], Loss: 1221.7499\n",
            "tensor([[16.6137],\n",
            "        [16.6159],\n",
            "        [16.6086],\n",
            "        [16.6145],\n",
            "        [16.6161],\n",
            "        [16.6157],\n",
            "        [16.6044],\n",
            "        [16.6155],\n",
            "        [16.6121]], grad_fn=<SliceBackward>)\n",
            "Epoch [7500/10000], Loss: 1221.7499\n",
            "tensor([[16.6133],\n",
            "        [16.6156],\n",
            "        [16.6087],\n",
            "        [16.6143],\n",
            "        [16.6158],\n",
            "        [16.6154],\n",
            "        [16.6044],\n",
            "        [16.6152],\n",
            "        [16.6118]], grad_fn=<SliceBackward>)\n",
            "Epoch [8000/10000], Loss: 1221.7499\n",
            "tensor([[16.6127],\n",
            "        [16.6150],\n",
            "        [16.6085],\n",
            "        [16.6137],\n",
            "        [16.6152],\n",
            "        [16.6148],\n",
            "        [16.6044],\n",
            "        [16.6146],\n",
            "        [16.6113]], grad_fn=<SliceBackward>)\n",
            "Epoch [8500/10000], Loss: 1221.7499\n",
            "tensor([[16.6125],\n",
            "        [16.6149],\n",
            "        [16.6085],\n",
            "        [16.6136],\n",
            "        [16.6150],\n",
            "        [16.6147],\n",
            "        [16.6044],\n",
            "        [16.6145],\n",
            "        [16.6111]], grad_fn=<SliceBackward>)\n",
            "Epoch [9000/10000], Loss: 1221.7499\n",
            "tensor([[16.6122],\n",
            "        [16.6145],\n",
            "        [16.6084],\n",
            "        [16.6132],\n",
            "        [16.6146],\n",
            "        [16.6143],\n",
            "        [16.6045],\n",
            "        [16.6141],\n",
            "        [16.6108]], grad_fn=<SliceBackward>)\n",
            "Epoch [9500/10000], Loss: 1221.7498\n",
            "tensor([[16.6118],\n",
            "        [16.6141],\n",
            "        [16.6084],\n",
            "        [16.6128],\n",
            "        [16.6142],\n",
            "        [16.6139],\n",
            "        [16.6046],\n",
            "        [16.6138],\n",
            "        [16.6105]], grad_fn=<SliceBackward>)\n",
            "Epoch [10000/10000], Loss: 1221.7498\n",
            "tensor([[16.6117],\n",
            "        [16.6140],\n",
            "        [16.6084],\n",
            "        [16.6127],\n",
            "        [16.6142],\n",
            "        [16.6139],\n",
            "        [16.6048],\n",
            "        [16.6137],\n",
            "        [16.6104]], grad_fn=<SliceBackward>)\n"
          ],
          "name": "stdout"
        }
      ]
    },
    {
      "cell_type": "markdown",
      "metadata": {
        "id": "e7-wQ_nA3eRF",
        "colab_type": "text"
      },
      "source": [
        "## Testing the Model\n"
      ]
    },
    {
      "cell_type": "code",
      "metadata": {
        "colab_type": "code",
        "id": "qZjRYQGe7r6P",
        "outputId": "76534707-b3c0-4f1a-a50f-67698a319236",
        "colab": {
          "base_uri": "https://localhost:8080/",
          "height": 282
        }
      },
      "source": [
        "# Test the Model\n",
        "\n",
        "# Generate random data\n",
        "x_ = torch.randn(50,1)\n",
        "# Edit data to be stock prices\n",
        "x_ = np.abs(x_*100)\n",
        "\n",
        "# Get BSM Prices as determined by the formula\n",
        "y_ = gbm1.prices_bsm(option, x_)\n",
        "\n",
        "# Plot x_ versus formula prices\n",
        "plt.scatter(x_.detach().numpy(), y_.detach().numpy(), label='true')\n",
        "\n",
        "# Get BSM Prices as determined by the model\n",
        "y_pred = model(x_)\n",
        "\n",
        "# Plot x_ versus the model prices\n",
        "plt.scatter(x_.detach().numpy(), y_pred.detach().numpy(), label='pred')\n",
        "\n",
        "plt.legend()\n"
      ],
      "execution_count": 504,
      "outputs": [
        {
          "output_type": "execute_result",
          "data": {
            "text/plain": [
              "<matplotlib.legend.Legend at 0x7ff3d8ac8438>"
            ]
          },
          "metadata": {
            "tags": []
          },
          "execution_count": 504
        },
        {
          "output_type": "display_data",
          "data": {
            "image/png": "[encoded data removed]",
            "text/plain": [
              "<Figure size 432x288 with 1 Axes>"
            ]
          },
          "metadata": {
            "tags": []
          }
        }
      ]
    },
    {
      "cell_type": "code",
      "metadata": {
        "id": "btJeLUznONYl",
        "colab_type": "code",
        "colab": {}
      },
      "source": [
        ""
      ],
      "execution_count": 0,
      "outputs": []
    }
  ]
}