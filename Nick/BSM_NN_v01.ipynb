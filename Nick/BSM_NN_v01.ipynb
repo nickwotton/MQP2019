{
  "nbformat": 4,
  "nbformat_minor": 0,
  "metadata": {
    "colab": {
      "name": "BSM_NN_v01.ipynb ",
      "provenance": [],
      "include_colab_link": true
    },
    "kernelspec": {
      "display_name": "Python 3",
      "language": "python",
      "name": "python3"
    },
    "language_info": {
      "codemirror_mode": {
        "name": "ipython",
        "version": 3
      },
      "file_extension": ".py",
      "mimetype": "text/x-python",
      "name": "python",
      "nbconvert_exporter": "python",
      "pygments_lexer": "ipython3",
      "version": "3.7.4"
    }
  },
  "cells": [
    {
      "cell_type": "markdown",
      "metadata": {
        "id": "view-in-github",
        "colab_type": "text"
      },
      "source": [
        "<a href=\"https://colab.research.google.com/github/nickwotton/MQP2019/blob/master/Nick/BSM_NN_v01.ipynb\" target=\"_parent\"><img src=\"https://colab.research.google.com/assets/colab-badge.svg\" alt=\"Open In Colab\"/></a>"
      ]
    },
    {
      "cell_type": "markdown",
      "metadata": {
        "id": "Pu5uIyYP6Tnz",
        "colab_type": "text"
      },
      "source": [
        "# Attempt to Replicate the Black Scholes Model Using a Neural Network\n"
      ]
    },
    {
      "cell_type": "code",
      "metadata": {
        "colab_type": "code",
        "id": "KOvg3FsM7r51",
        "colab": {}
      },
      "source": [
        "import torch\n",
        "import torch.nn as nn\n",
        "import numpy as np\n",
        "import torch.nn.functional as F\n",
        "import matplotlib.pyplot as plt\n",
        "import scipy.stats as ss"
      ],
      "execution_count": 0,
      "outputs": []
    },
    {
      "cell_type": "markdown",
      "metadata": {
        "id": "O4PCo06270zm",
        "colab_type": "text"
      },
      "source": [
        "## Define the Function\n",
        "Here we define our function, the Black Scholes Model (BSM). First, we must initialize the option class, then the Geometric Brownian Motion Class, and finally the BSM class.\n",
        "Then we test the equation with a test value of 2."
      ]
    },
    {
      "cell_type": "code",
      "metadata": {
        "colab_type": "code",
        "id": "wdyGtXXn7r56",
        "colab": {}
      },
      "source": [
        "'''=========\n",
        "option class init\n",
        "=========='''\n",
        "class VanillaOption:\n",
        "    def __init__(\n",
        "        self,\n",
        "        otype = 1, # 1: 'call'\n",
        "                  # -1: 'put'\n",
        "        strike = 110.,\n",
        "        maturity = 1.,\n",
        "        market_price = 10.):\n",
        "      self.otype = otype               # Put or Call\n",
        "      self.strike = strike             # Strike K\n",
        "      self.maturity = maturity         # Maturity T\n",
        "      self.market_price = market_price #this will be used for calibration\n",
        "      \n",
        "        \n",
        "    def payoff(self, s): #s: excercise price\n",
        "      otype = self.otype\n",
        "      k = self.strike\n",
        "      maturity = self.maturity\n",
        "      return np.max([0, (s - k)*otype])\n"
      ],
      "execution_count": 0,
      "outputs": []
    },
    {
      "cell_type": "code",
      "metadata": {
        "id": "3ZT5HETX8jIs",
        "colab_type": "code",
        "colab": {}
      },
      "source": [
        "'''============\n",
        "Gbm class\n",
        "============='''\n",
        "\n",
        "class Gbm:\n",
        "    def __init__(self,\n",
        "                 init_state = 100.,\n",
        "                 drift_ratio = .0475,\n",
        "                 vol_ratio = .2\n",
        "                ):\n",
        "        self.init_state = init_state\n",
        "        self.drift_ratio = drift_ratio\n",
        "        self.vol_ratio = vol_ratio"
      ],
      "execution_count": 0,
      "outputs": []
    },
    {
      "cell_type": "code",
      "metadata": {
        "id": "Dkd7sAZCEYUk",
        "colab_type": "code",
        "colab": {}
      },
      "source": [
        "'''========\n",
        "Black-Scholes-Merton formula. \n",
        "=========='''\n",
        "\n",
        "def bsm_price(self, vanilla_option):\n",
        "    s0 = self.init_state\n",
        "    sigma = self.vol_ratio\n",
        "    r = self.drift_ratio\n",
        "    \n",
        "    otype = vanilla_option.otype\n",
        "    k = vanilla_option.strike\n",
        "    maturity = vanilla_option.maturity\n",
        "    \n",
        "    d1 = 1/(sigma*np.sqrt(maturity))*(np.log(s0/k) + (r + np.power(sigma,2)/2)*(maturity)) \n",
        "    d2 = 1/(sigma*np.sqrt(maturity))*(np.log(s0/k) + (r - np.power(sigma,2)/2)*(maturity)) \n",
        "    return (otype * s0 * ss.norm.cdf(otype * d1) #line break needs parenthesis\n",
        "            - otype * np.exp(-r * maturity) * k * ss.norm.cdf(otype * d2))\n",
        "\n",
        "Gbm.bsm_price = bsm_price"
      ],
      "execution_count": 0,
      "outputs": []
    },
    {
      "cell_type": "code",
      "metadata": {
        "id": "vC1nkSnVIBgi",
        "colab_type": "code",
        "colab": {}
      },
      "source": [
        "'''=======\n",
        "Get BSM prices given an option and a vector\n",
        "======='''\n",
        "\n",
        "def vector_bsm(self, vanilla_option, data):\n",
        "  outputData = []\n",
        "  for i in data:\n",
        "    gbm1.init_state = i\n",
        "    callPrice = gbm1.bsm_price(vanilla_option)\n",
        "    outputData.append(callPrice)\n",
        "  return outputData\n",
        "\n",
        "Gbm.vector_bsm = vector_bsm"
      ],
      "execution_count": 0,
      "outputs": []
    },
    {
      "cell_type": "markdown",
      "metadata": {
        "id": "7G7JVcog6Ref",
        "colab_type": "text"
      },
      "source": [
        "## Create Model\n",
        "Next, we create the neural network model. This is done first by setting the inner and outer dimensions with variables. Next we code the model and vary the internal dimensions to attempt to improve the model. At this level, this is essentially a simple linear algebra exercise:\n",
        "\n",
        "If we have input $x$, internal parameters $a,b$, and solution $f(x)$ then in the one-dimensional case we have:\n",
        "\n",
        "\\begin{equation}\n",
        "  \\left(\n",
        "    a_{1}x+b_{2}\n",
        "  \\right)\n",
        "  a_{2} + b_{2}\n",
        "  = f(x)\n",
        "\\end{equation}\n",
        "  \n",
        "However, we want to get a better estimate for the true equation. So we increase the interior dimension which corresponds to the number of neurons inside the network. For example, we raised the inner dimension to 3. In matrix form we have:\n",
        "\n",
        "\\begin{equation}\n",
        "\\left(\n",
        "  \\begin{bmatrix} x \\end{bmatrix} \n",
        "  \\begin{bmatrix} a_{1} & a_{2} & a_{3} \\end{bmatrix} \n",
        "  + \n",
        "  \\begin{bmatrix} b_{1} & b_{2} & b_{3} \\end{bmatrix}\n",
        "\\right)\n",
        " \\begin{bmatrix} a_{4} \\\\ a_{5} \\\\ a_{6} \\end{bmatrix}\n",
        " +\n",
        " \\begin{bmatrix} b_{4} \\\\ \\end{bmatrix}\n",
        " =\n",
        " \\begin{bmatrix} f(x) \\end{bmatrix}\n",
        "\\end{equation}\n",
        "\n",
        "Graphically, we can render this second neural network as:\n",
        "![Neural Network Diagram](https://drive.google.com/uc?id=1ItiBpdjPvWHF5ZWy8JDNDKq6dXfyU-IE)\n",
        "\n",
        "What we discovered here is that ReLU was slowing down the process, so since our function is Linear, we can just remove it. \n",
        "\n",
        "Additionally, we discerned that the higher the inner dimension, that is, the more nodes in each layer, the smaller the error and the better the performance."
      ]
    },
    {
      "cell_type": "code",
      "metadata": {
        "colab_type": "code",
        "id": "CiVUxudQ7r5_",
        "colab": {}
      },
      "source": [
        "#model\n",
        "#nn.Linear\n",
        "in_dim = 1\n",
        "out_dim = 1\n",
        "int_dim = 10\n",
        "\n",
        "model = nn.Sequential(\n",
        "    nn.Linear(in_dim, int_dim),\n",
        "    nn.ReLU(),\n",
        "    #nn.Linear(int_dim, int_dim),\n",
        "    #nn.ReLU(),\n",
        "    nn.Linear(int_dim, out_dim)\n",
        ")"
      ],
      "execution_count": 0,
      "outputs": []
    },
    {
      "cell_type": "markdown",
      "metadata": {
        "id": "OkuS30xvzTgV",
        "colab_type": "text"
      },
      "source": [
        "Here we define the Loss function as the Mean Squared Error(MSE). \n",
        "\n",
        "Note that by doing so, we are essentially 'cheating' the system. In most applications, we would not know the function $f$ so we would be unable to find the MSE."
      ]
    },
    {
      "cell_type": "code",
      "metadata": {
        "colab_type": "code",
        "id": "7TqjOaLs7r6C",
        "colab": {}
      },
      "source": [
        "#loss function \n",
        "criterion = nn.MSELoss()"
      ],
      "execution_count": 0,
      "outputs": []
    },
    {
      "cell_type": "markdown",
      "metadata": {
        "id": "xIblNHIrzt8f",
        "colab_type": "text"
      },
      "source": [
        "Next we choose a learning rate and a method for learning. The learning rate is the percent of the data that is accepted in each iteration. The Methods we tried were SGD and Adam. "
      ]
    },
    {
      "cell_type": "code",
      "metadata": {
        "colab_type": "code",
        "id": "E4rnJCtA7r6G",
        "colab": {}
      },
      "source": [
        "#optimizer\n",
        "learning_rate = 0.001\n",
        "optimizer = torch.optim.SGD(model.parameters(), lr=learning_rate) "
      ],
      "execution_count": 0,
      "outputs": []
    },
    {
      "cell_type": "markdown",
      "metadata": {
        "id": "W-FHbIND2A34",
        "colab_type": "text"
      },
      "source": [
        "## Train the Model\n",
        "\n",
        "First we create the training data. This is a batch of random points that we pass through the BSM."
      ]
    },
    {
      "cell_type": "code",
      "metadata": {
        "colab_type": "code",
        "id": "SbutUBbo7r6K",
        "colab": {}
      },
      "source": [
        "#training data\n",
        "\n",
        "batch_size = 1000\n",
        "\n",
        "x_trainPy = torch.randn(batch_size, 1)\n",
        "#print(x_trainPy)\n",
        "x_trainFlat = torch.flatten(x_trainPy)\n",
        "#print(x_trainFlat)\n",
        "x_train = np.abs(x_trainFlat.tolist())            # Convert to a list for ease of use, Take absolute value since we need stock prices > 0\n",
        "#print(x_train)\n",
        "x_trainScaled = [x * 100 for x in x_train]        # Scale list to make valid stock prices\n",
        "#print(x_trainScaled)\n",
        "gbm1 = Gbm()\n",
        "option1 = VanillaOption()\n",
        "y_train = gbm1.vector_bsm(option1, x_trainScaled)\n",
        "#print(y_train)\n",
        "#for i in x_trainScaled:\n",
        " # gbm1.init_state = i\n",
        "  #callPrice = gbm1.bsm_price(option1)\n",
        "  #y_train.append(callPrice)\n",
        "\n",
        "#print(x_train)\n",
        "#print(x_trainScaled)\n",
        "#print(y_train)\n",
        "\n",
        "x_trainTensor = torch.FloatTensor(x_trainScaled)  # Convert the data to a Tensor again for use in training the model\n",
        "x_trainRotTensor = x_trainTensor.unsqueeze(1)     # Transpose the tensor to make it into the form we need for training\n",
        "\n",
        "y_trainTensor = torch.FloatTensor(y_train)\n",
        "y_trainRotTensor = y_trainTensor.unsqueeze(1)\n",
        "\n",
        "#print(x_trainTensor)\n",
        "#print(x_trainRotTensor)\n",
        "#print(y_trainTensor)\n",
        "#print(y_trainRotTensor)"
      ],
      "execution_count": 0,
      "outputs": []
    },
    {
      "cell_type": "markdown",
      "metadata": {
        "id": "W9VZMG4e2ziF",
        "colab_type": "text"
      },
      "source": [
        "Once we have the training data, we pass this collection of inputs and solutions into the model. With each iteration we calculate the loss and attempt to optimize the model to further reduce the loss.\n"
      ]
    },
    {
      "cell_type": "code",
      "metadata": {
        "colab_type": "code",
        "id": "4hNIFisK7r6M",
        "outputId": "3f3c32c5-8e0d-4102-b694-518ac1f686cb",
        "colab": {
          "base_uri": "https://localhost:8080/",
          "height": 353
        }
      },
      "source": [
        "# Train the model\n",
        "\n",
        "num_epochs = 1000\n",
        "\n",
        "for epoch in range(num_epochs):\n",
        "\n",
        "    # Forward pass\n",
        "    outputs = model(x_trainRotTensor)\n",
        "    loss = criterion(outputs, y_trainRotTensor)\n",
        "    \n",
        "    # Backward and optimize\n",
        "    optimizer.zero_grad()\n",
        "    loss.backward()\n",
        "    optimizer.step()\n",
        "    \n",
        "    if (epoch+1) % 50 == 0:\n",
        "        print ('Epoch [{}/{}], Loss: {:.4f}'.format(epoch+1, \n",
        "                                                    num_epochs, loss.item()))\n",
        "        #print(x_trainRotTensor[0:10])\n",
        "        #print(outputs[0:10])\n",
        "        #print(y_trainRotTensor[0:10])\n"
      ],
      "execution_count": 111,
      "outputs": [
        {
          "output_type": "stream",
          "text": [
            "Epoch [50/1000], Loss: 1208.3547\n",
            "Epoch [100/1000], Loss: 1207.5942\n",
            "Epoch [150/1000], Loss: 1206.9716\n",
            "Epoch [200/1000], Loss: 1206.4617\n",
            "Epoch [250/1000], Loss: 1206.0442\n",
            "Epoch [300/1000], Loss: 1205.7023\n",
            "Epoch [350/1000], Loss: 1205.4222\n",
            "Epoch [400/1000], Loss: 1205.1929\n",
            "Epoch [450/1000], Loss: 1205.0050\n",
            "Epoch [500/1000], Loss: 1204.8511\n",
            "Epoch [550/1000], Loss: 1204.7250\n",
            "Epoch [600/1000], Loss: 1204.6216\n",
            "Epoch [650/1000], Loss: 1204.5369\n",
            "Epoch [700/1000], Loss: 1204.4674\n",
            "Epoch [750/1000], Loss: 1204.4105\n",
            "Epoch [800/1000], Loss: 1204.3638\n",
            "Epoch [850/1000], Loss: 1204.3254\n",
            "Epoch [900/1000], Loss: 1204.2939\n",
            "Epoch [950/1000], Loss: 1204.2679\n",
            "Epoch [1000/1000], Loss: 1204.2467\n"
          ],
          "name": "stdout"
        }
      ]
    },
    {
      "cell_type": "markdown",
      "metadata": {
        "id": "e7-wQ_nA3eRF",
        "colab_type": "text"
      },
      "source": [
        "## Testing the Model\n"
      ]
    },
    {
      "cell_type": "code",
      "metadata": {
        "colab_type": "code",
        "id": "qZjRYQGe7r6P",
        "outputId": "e4f9d4db-08fe-4b46-a08a-4fbc9acf577a",
        "colab": {
          "base_uri": "https://localhost:8080/",
          "height": 283
        }
      },
      "source": [
        "#test\n",
        "x_Py = torch.randn(50,1)\n",
        "x_Flat = torch.flatten(x_Py)\n",
        "x_list = np.abs(x_Flat.tolist())            # Convert to a list for ease of use, Take absolute value since we need stock prices > 0\n",
        "x_ = [x * 100 for x in x_list] \n",
        "\n",
        "y_ = gbm1.vector_bsm(option1, x_)\n",
        "\n",
        "x_Tensor =  torch.FloatTensor(x_)           # convert back to tensor\n",
        "x_RotTensor = x_Tensor.unsqueeze(1)\n",
        "\n",
        "y_Tensor =  torch.FloatTensor(y_)           # convert back to tensor\n",
        "y_RotTensor = y_Tensor.unsqueeze(1)\n",
        "#print(y_RotTensor)\n",
        "plt.scatter(x_RotTensor.detach().numpy(), y_RotTensor.detach().numpy(), label='true')\n",
        "\n",
        "y_pred = model(x_RotTensor)\n",
        "#print(y_pred)\n",
        "plt.scatter(x_RotTensor.detach().numpy(), y_pred.detach().numpy(), label='pred')\n",
        "\n",
        "plt.legend()"
      ],
      "execution_count": 112,
      "outputs": [
        {
          "output_type": "execute_result",
          "data": {
            "text/plain": [
              "<matplotlib.legend.Legend at 0x7f70db7764e0>"
            ]
          },
          "metadata": {
            "tags": []
          },
          "execution_count": 112
        },
        {
          "output_type": "display_data",
          "data": {
            "image/png": "[encoded data removed]",
            "text/plain": [
              "<Figure size 432x288 with 1 Axes>"
            ]
          },
          "metadata": {
            "tags": []
          }
        }
      ]
    }
  ]
}